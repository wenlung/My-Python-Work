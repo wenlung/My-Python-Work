{
 "cells": [
  {
   "cell_type": "code",
   "execution_count": 1,
   "metadata": {
    "colab": {},
    "colab_type": "code",
    "id": "g1qhEXzKAd3C"
   },
   "outputs": [],
   "source": [
    "%matplotlib inline\n",
    "\n",
    "import numpy as np\n",
    "import matplotlib.pyplot as plt\n",
    "import tensorflow as tf"
   ]
  },
  {
   "cell_type": "markdown",
   "metadata": {
    "colab_type": "text",
    "id": "sntlJo4cAk3c"
   },
   "source": [
    "## 讀入Fashion MNIST數據"
   ]
  },
  {
   "cell_type": "code",
   "execution_count": 2,
   "metadata": {
    "colab": {},
    "colab_type": "code",
    "id": "gI87C6LQAqau"
   },
   "outputs": [],
   "source": [
    "from tensorflow.keras.datasets import fashion_mnist"
   ]
  },
  {
   "cell_type": "code",
   "execution_count": 3,
   "metadata": {
    "colab": {
     "base_uri": "https://localhost:8080/",
     "height": 170
    },
    "colab_type": "code",
    "id": "dM8UNAcqAsAz",
    "outputId": "d929000e-ed77-4039-a8c0-26d34c33b54b"
   },
   "outputs": [],
   "source": [
    "(x_train, y_train), (x_test, y_test) = fashion_mnist.load_data()"
   ]
  },
  {
   "cell_type": "markdown",
   "metadata": {
    "colab_type": "text",
    "id": "Vo0Z2YHYAtAG"
   },
   "source": [
    "## 看數據\n"
   ]
  },
  {
   "cell_type": "code",
   "execution_count": 4,
   "metadata": {
    "colab": {},
    "colab_type": "code",
    "id": "9hQHEGLuAuoz"
   },
   "outputs": [],
   "source": [
    "class_names = ['T-shirt/top', 'Trouser', 'Pullover', 'Dress', 'Coat',\n",
    "               'Sandal', 'Shirt', 'Sneaker', 'Bag', 'Ankle boot']"
   ]
  },
  {
   "cell_type": "code",
   "execution_count": 5,
   "metadata": {
    "colab": {
     "base_uri": "https://localhost:8080/",
     "height": 33
    },
    "colab_type": "code",
    "id": "BpQUduu_Awm0",
    "outputId": "e01a954f-2f7a-465e-c9d5-6d1eb36ab13a"
   },
   "outputs": [
    {
     "data": {
      "text/plain": [
       "60000"
      ]
     },
     "execution_count": 5,
     "metadata": {},
     "output_type": "execute_result"
    }
   ],
   "source": [
    "len(x_train)"
   ]
  },
  {
   "cell_type": "code",
   "execution_count": 6,
   "metadata": {
    "colab": {
     "base_uri": "https://localhost:8080/",
     "height": 33
    },
    "colab_type": "code",
    "id": "NpxDntJCAx35",
    "outputId": "c3670158-05d1-47fd-cc9f-49d08c81e3ce"
   },
   "outputs": [
    {
     "data": {
      "text/plain": [
       "10000"
      ]
     },
     "execution_count": 6,
     "metadata": {},
     "output_type": "execute_result"
    }
   ],
   "source": [
    "len(x_test)"
   ]
  },
  {
   "cell_type": "code",
   "execution_count": 7,
   "metadata": {
    "colab": {
     "base_uri": "https://localhost:8080/",
     "height": 281
    },
    "colab_type": "code",
    "id": "ZwLTnn_6AzDd",
    "outputId": "eb6a5a3d-1836-4e77-e896-b569c5064a0b"
   },
   "outputs": [
    {
     "name": "stdout",
     "output_type": "stream",
     "text": [
      "這是 Trouser\n"
     ]
    },
    {
     "data": {
      "image/png": "[encoded data removed]",
      "text/plain": [
       "<Figure size 432x288 with 1 Axes>"
      ]
     },
     "metadata": {
      "needs_background": "light"
     },
     "output_type": "display_data"
    }
   ],
   "source": [
    "n = 1000\n",
    "print('這是', class_names[y_train[n]])\n",
    "plt.imshow(x_train[n], cmap='Greys');"
   ]
  },
  {
   "cell_type": "code",
   "execution_count": 8,
   "metadata": {
    "colab": {
     "base_uri": "https://localhost:8080/",
     "height": 106
    },
    "colab_type": "code",
    "id": "3mM83r-iA0Sz",
    "outputId": "d10b188e-8447-4c18-896f-ecbe9e5eb9e4"
   },
   "outputs": [
    {
     "data": {
      "image/png": "[encoded data removed]",
      "text/plain": [
       "<Figure size 432x288 with 5 Axes>"
      ]
     },
     "metadata": {},
     "output_type": "display_data"
    }
   ],
   "source": [
    "pick = np.random.choice(60000, 5, replace=False)\n",
    "\n",
    "for i in range(5):\n",
    "    n = pick[i]\n",
    "    ax = plt.subplot(151+i)\n",
    "    ax.set_xticks([])\n",
    "    ax.set_yticks([])\n",
    "    ax.set_title(class_names[y_train[n]], fontsize=10)\n",
    "    plt.imshow(x_train[n], cmap='Greys')  "
   ]
  },
  {
   "cell_type": "code",
   "execution_count": 9,
   "metadata": {
    "colab": {
     "base_uri": "https://localhost:8080/",
     "height": 33
    },
    "colab_type": "code",
    "id": "obZMeQbIA13u",
    "outputId": "6f9adcf1-fa6a-4c37-e615-f1f35ffd2565"
   },
   "outputs": [
    {
     "data": {
      "text/plain": [
       "(60000, 28, 28)"
      ]
     },
     "execution_count": 9,
     "metadata": {},
     "output_type": "execute_result"
    }
   ],
   "source": [
    "x_train.shape"
   ]
  },
  {
   "cell_type": "code",
   "execution_count": 10,
   "metadata": {
    "colab": {},
    "colab_type": "code",
    "id": "uh6x7lwGA3AK"
   },
   "outputs": [],
   "source": [
    "x_train = x_train/255\n",
    "x_test = x_test/255"
   ]
  },
  {
   "cell_type": "code",
   "execution_count": 11,
   "metadata": {
    "colab": {},
    "colab_type": "code",
    "id": "lWMpN1RYA3-M"
   },
   "outputs": [],
   "source": [
    "x_train = x_train.reshape(60000, 784)\n",
    "x_test = x_test.reshape(10000, 784)"
   ]
  },
  {
   "cell_type": "code",
   "execution_count": 12,
   "metadata": {
    "colab": {
     "base_uri": "https://localhost:8080/",
     "height": 33
    },
    "colab_type": "code",
    "id": "M1JgSRGWA4yY",
    "outputId": "7d2615d0-3e7d-4d43-c0c0-48bd4a10c780"
   },
   "outputs": [
    {
     "data": {
      "text/plain": [
       "array([0., 0., 0., 0., 0., 1., 0., 0., 0., 0.], dtype=float32)"
      ]
     },
     "execution_count": 12,
     "metadata": {},
     "output_type": "execute_result"
    }
   ],
   "source": [
    "from tensorflow.keras.utils import to_categorical\n",
    "y_train = to_categorical(y_train, 10)\n",
    "y_test = to_categorical(y_test, 10)\n",
    "y_train[8] #test"
   ]
  },
  {
   "cell_type": "markdown",
   "metadata": {
    "colab_type": "text",
    "id": "MId-5CZRA5t3"
   },
   "source": [
    "## 打造神經網路"
   ]
  },
  {
   "cell_type": "code",
   "execution_count": 13,
   "metadata": {
    "colab": {},
    "colab_type": "code",
    "id": "tdndc2ipA67e"
   },
   "outputs": [],
   "source": [
    "from tensorflow.keras.models import Sequential\n",
    "from tensorflow.keras.layers import Dense\n",
    "from tensorflow.keras.optimizers import SGD"
   ]
  },
  {
   "cell_type": "code",
   "execution_count": 14,
   "metadata": {
    "colab": {},
    "colab_type": "code",
    "id": "JaPJ16fXA8po"
   },
   "outputs": [],
   "source": [
    "model = Sequential()"
   ]
  },
  {
   "cell_type": "markdown",
   "metadata": {},
   "source": [
    "#### <mark style=background-color:red>試試看如果dense層不是遞減的會怎麼樣->100層後接500層</mark> "
   ]
  },
  {
   "cell_type": "code",
   "execution_count": 15,
   "metadata": {
    "colab": {},
    "colab_type": "code",
    "id": "JJITNx1aA-Fd"
   },
   "outputs": [],
   "source": [
    "model.add(Dense(150,input_dim=784,activation='relu'))\n",
    "model.add(Dense(100,activation='relu'))\n",
    "model.add(Dense(500,activation='relu'))\n",
    "model.add(Dense(10,activation='softmax'))"
   ]
  },
  {
   "cell_type": "markdown",
   "metadata": {
    "colab_type": "text",
    "id": "7uYUEXRHBdrA"
   },
   "source": [
    "## 組裝神經網路"
   ]
  },
  {
   "cell_type": "code",
   "execution_count": 16,
   "metadata": {
    "colab": {
     "base_uri": "https://localhost:8080/",
     "height": 284
    },
    "colab_type": "code",
    "id": "ynAm0_ppA-9B",
    "outputId": "af8323c8-3726-449b-e236-5b77331ef263"
   },
   "outputs": [
    {
     "name": "stdout",
     "output_type": "stream",
     "text": [
      "Model: \"sequential\"\n",
      "_________________________________________________________________\n",
      "Layer (type)                 Output Shape              Param #   \n",
      "=================================================================\n",
      "dense (Dense)                (None, 150)               117750    \n",
      "_________________________________________________________________\n",
      "dense_1 (Dense)              (None, 100)               15100     \n",
      "_________________________________________________________________\n",
      "dense_2 (Dense)              (None, 500)               50500     \n",
      "_________________________________________________________________\n",
      "dense_3 (Dense)              (None, 10)                5010      \n",
      "=================================================================\n",
      "Total params: 188,360\n",
      "Trainable params: 188,360\n",
      "Non-trainable params: 0\n",
      "_________________________________________________________________\n"
     ]
    }
   ],
   "source": [
    "model.compile(loss='mse', optimizer=SGD(lr=0.087), metrics=['accuracy'])\n",
    "model.summary()"
   ]
  },
  {
   "cell_type": "markdown",
   "metadata": {},
   "source": [
    "#### <mark style=background-color:red>batch_size改成88, epochs改成21</mark> "
   ]
  },
  {
   "cell_type": "code",
   "execution_count": 17,
   "metadata": {
    "colab": {
     "base_uri": "https://localhost:8080/",
     "height": 739
    },
    "colab_type": "code",
    "id": "FBN61ol9A_7F",
    "outputId": "25417b0e-1add-4b49-834e-68c5502aaffe"
   },
   "outputs": [
    {
     "name": "stdout",
     "output_type": "stream",
     "text": [
      "Train on 60000 samples, validate on 10000 samples\n",
      "Epoch 1/21\n",
      "60000/60000 [==============================] - 11s 179us/sample - loss: 0.0797 - accuracy: 0.3596 - val_loss: 0.0608 - val_accuracy: 0.5718\n",
      "Epoch 2/21\n",
      "60000/60000 [==============================] - 8s 139us/sample - loss: 0.0475 - accuracy: 0.6633 - val_loss: 0.0411 - val_accuracy: 0.7167\n",
      "Epoch 3/21\n",
      "60000/60000 [==============================] - 7s 114us/sample - loss: 0.0367 - accuracy: 0.7557 - val_loss: 0.0350 - val_accuracy: 0.7681\n",
      "Epoch 4/21\n",
      "60000/60000 [==============================] - 7s 113us/sample - loss: 0.0316 - accuracy: 0.7951 - val_loss: 0.0311 - val_accuracy: 0.7944\n",
      "Epoch 5/21\n",
      "60000/60000 [==============================] - 8s 134us/sample - loss: 0.0286 - accuracy: 0.8102 - val_loss: 0.0289 - val_accuracy: 0.8050\n",
      "Epoch 6/21\n",
      "60000/60000 [==============================] - 8s 132us/sample - loss: 0.0269 - accuracy: 0.8201 - val_loss: 0.0276 - val_accuracy: 0.8128\n",
      "Epoch 7/21\n",
      "60000/60000 [==============================] - 8s 134us/sample - loss: 0.0258 - accuracy: 0.8258 - val_loss: 0.0265 - val_accuracy: 0.8195\n",
      "Epoch 8/21\n",
      "60000/60000 [==============================] - 8s 134us/sample - loss: 0.0249 - accuracy: 0.8318 - val_loss: 0.0269 - val_accuracy: 0.8115\n",
      "Epoch 9/21\n",
      "60000/60000 [==============================] - 9s 145us/sample - loss: 0.0242 - accuracy: 0.8354 - val_loss: 0.0256 - val_accuracy: 0.8232\n",
      "Epoch 10/21\n",
      "60000/60000 [==============================] - 6s 104us/sample - loss: 0.0235 - accuracy: 0.8409 - val_loss: 0.0251 - val_accuracy: 0.8272\n",
      "Epoch 11/21\n",
      "60000/60000 [==============================] - 7s 122us/sample - loss: 0.0231 - accuracy: 0.8429 - val_loss: 0.0248 - val_accuracy: 0.8288\n",
      "Epoch 12/21\n",
      "60000/60000 [==============================] - 8s 126us/sample - loss: 0.0227 - accuracy: 0.8460 - val_loss: 0.0254 - val_accuracy: 0.8251\n",
      "Epoch 13/21\n",
      "60000/60000 [==============================] - 7s 114us/sample - loss: 0.0223 - accuracy: 0.8483 - val_loss: 0.0246 - val_accuracy: 0.8318\n",
      "Epoch 14/21\n",
      "60000/60000 [==============================] - 8s 136us/sample - loss: 0.0220 - accuracy: 0.8514 - val_loss: 0.0239 - val_accuracy: 0.8361\n",
      "Epoch 15/21\n",
      "60000/60000 [==============================] - 7s 118us/sample - loss: 0.0217 - accuracy: 0.8533 - val_loss: 0.0235 - val_accuracy: 0.8381\n",
      "Epoch 16/21\n",
      "60000/60000 [==============================] - 7s 124us/sample - loss: 0.0213 - accuracy: 0.8562 - val_loss: 0.0233 - val_accuracy: 0.8407\n",
      "Epoch 17/21\n",
      "60000/60000 [==============================] - 7s 110us/sample - loss: 0.0211 - accuracy: 0.8577 - val_loss: 0.0227 - val_accuracy: 0.8428\n",
      "Epoch 18/21\n",
      "60000/60000 [==============================] - 7s 121us/sample - loss: 0.0208 - accuracy: 0.8592 - val_loss: 0.0231 - val_accuracy: 0.8410\n",
      "Epoch 19/21\n",
      "60000/60000 [==============================] - 7s 113us/sample - loss: 0.0206 - accuracy: 0.8608 - val_loss: 0.0233 - val_accuracy: 0.8400\n",
      "Epoch 20/21\n",
      "60000/60000 [==============================] - 7s 114us/sample - loss: 0.0204 - accuracy: 0.8618 - val_loss: 0.0239 - val_accuracy: 0.8372\n",
      "Epoch 21/21\n",
      "60000/60000 [==============================] - 7s 116us/sample - loss: 0.0202 - accuracy: 0.8636 - val_loss: 0.0224 - val_accuracy: 0.8462\n"
     ]
    }
   ],
   "source": [
    "one = model.fit(x_train, y_train, validation_data=(x_test, y_test),batch_size=88, epochs=21) #學習率和訓練次數做更動"
   ]
  },
  {
   "cell_type": "code",
   "execution_count": 18,
   "metadata": {
    "colab": {
     "base_uri": "https://localhost:8080/",
     "height": 87
    },
    "colab_type": "code",
    "id": "awgwXHxwBCKG",
    "outputId": "98a8642e-d1b4-4278-9911-4ff2d87db925"
   },
   "outputs": [],
   "source": [
    "result = model.predict_classes(x_test)"
   ]
  },
  {
   "cell_type": "markdown",
   "metadata": {
    "colab_type": "text",
    "id": "la3sFobvBx_x"
   },
   "source": [
    "訓練成果"
   ]
  },
  {
   "cell_type": "code",
   "execution_count": 27,
   "metadata": {
    "colab": {
     "base_uri": "https://localhost:8080/",
     "height": 298
    },
    "colab_type": "code",
    "id": "1y7-9yeLB1eI",
    "outputId": "520a1a34-da70-43aa-c638-51c944b45730"
   },
   "outputs": [
    {
     "name": "stdout",
     "output_type": "stream",
     "text": [
      "第幾筆:846\n",
      "我的預測是： Sandal , 正確答案： Sandal\n"
     ]
    },
    {
     "data": {
      "image/png": "[encoded data removed]",
      "text/plain": [
       "<Figure size 432x288 with 1 Axes>"
      ]
     },
     "metadata": {
      "needs_background": "light"
     },
     "output_type": "display_data"
    }
   ],
   "source": [
    "n = eval(input(\"第幾筆:\"))\n",
    "\n",
    "list=['T-shirt/top', 'Trouser', 'Pullover', 'Dress', 'Coat', 'Sandal', 'Shirt', 'Sneaker', 'Bag', 'Ankle boot']\n",
    "a=0\n",
    "for i in range(0,9):\n",
    "    if y_test[n][i]!=0:\n",
    "        a=i\n",
    "print('我的預測是：',list[result[n]],', 正確答案：',list[a])\n",
    "plt.imshow(x_test[n].reshape(28,28),cmap='Greys');"
   ]
  },
  {
   "cell_type": "code",
   "execution_count": 28,
   "metadata": {
    "colab": {
     "base_uri": "https://localhost:8080/",
     "height": 298
    },
    "colab_type": "code",
    "id": "qNLauIXLB7-d",
    "outputId": "77f2bec1-d291-4c47-fe08-417a205c8a37"
   },
   "outputs": [
    {
     "name": "stdout",
     "output_type": "stream",
     "text": [
      "神經網路預測： 5\n"
     ]
    },
    {
     "data": {
      "text/plain": [
       "<matplotlib.image.AxesImage at 0x1cca95c36d8>"
      ]
     },
     "execution_count": 28,
     "metadata": {},
     "output_type": "execute_result"
    },
    {
     "data": {
      "image/png": "[encoded data removed]",
      "text/plain": [
       "<Figure size 432x288 with 1 Axes>"
      ]
     },
     "metadata": {
      "needs_background": "light"
     },
     "output_type": "display_data"
    }
   ],
   "source": [
    "n=5781\n",
    "print('神經網路預測：',result[n])\n",
    "plt.imshow(x_test[n].reshape(28,28),cmap='Greys')"
   ]
  },
  {
   "cell_type": "code",
   "execution_count": null,
   "metadata": {
    "colab": {},
    "colab_type": "code",
    "id": "g3YAnFhsCvSG"
   },
   "outputs": [],
   "source": []
  }
 ],
 "metadata": {
  "colab": {
   "name": "Untitled7.ipynb",
   "provenance": []
  },
  "kernelspec": {
   "display_name": "Python 3",
   "language": "python",
   "name": "python3"
  },
  "language_info": {
   "codemirror_mode": {
    "name": "ipython",
    "version": 3
   },
   "file_extension": ".py",
   "mimetype": "text/x-python",
   "name": "python",
   "nbconvert_exporter": "python",
   "pygments_lexer": "ipython3",
   "version": "3.6.10"
  }
 },
 "nbformat": 4,
 "nbformat_minor": 1
}
