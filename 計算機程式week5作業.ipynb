{
  "nbformat": 4,
  "nbformat_minor": 0,
  "metadata": {
    "colab": {
      "name": "Untitled7.ipynb",
      "provenance": []
    },
    "kernelspec": {
      "name": "python3",
      "display_name": "Python 3"
    }
  },
  "cells": [
    {
      "cell_type": "code",
      "metadata": {
        "id": "g1qhEXzKAd3C",
        "colab_type": "code",
        "colab": {}
      },
      "source": [
        "%matplotlib inline\n",
        "\n",
        "import numpy as np\n",
        "import matplotlib.pyplot as plt\n",
        "import tensorflow as tf"
      ],
      "execution_count": 0,
      "outputs": []
    },
    {
      "cell_type": "markdown",
      "metadata": {
        "id": "sntlJo4cAk3c",
        "colab_type": "text"
      },
      "source": [
        "## 讀入Fashion MNIST數據"
      ]
    },
    {
      "cell_type": "code",
      "metadata": {
        "id": "gI87C6LQAqau",
        "colab_type": "code",
        "colab": {}
      },
      "source": [
        "from tensorflow.keras.datasets import fashion_mnist"
      ],
      "execution_count": 0,
      "outputs": []
    },
    {
      "cell_type": "code",
      "metadata": {
        "id": "dM8UNAcqAsAz",
        "colab_type": "code",
        "colab": {
          "base_uri": "https://localhost:8080/",
          "height": 170
        },
        "outputId": "d929000e-ed77-4039-a8c0-26d34c33b54b"
      },
      "source": [
        "(x_train, y_train), (x_test, y_test) = fashion_mnist.load_data()"
      ],
      "execution_count": 3,
      "outputs": [
        {
          "output_type": "stream",
          "text": [
            "Downloading data from https://storage.googleapis.com/tensorflow/tf-keras-datasets/train-labels-idx1-ubyte.gz\n",
            "32768/29515 [=================================] - 0s 0us/step\n",
            "Downloading data from https://storage.googleapis.com/tensorflow/tf-keras-datasets/train-images-idx3-ubyte.gz\n",
            "26427392/26421880 [==============================] - 0s 0us/step\n",
            "Downloading data from https://storage.googleapis.com/tensorflow/tf-keras-datasets/t10k-labels-idx1-ubyte.gz\n",
            "8192/5148 [===============================================] - 0s 0us/step\n",
            "Downloading data from https://storage.googleapis.com/tensorflow/tf-keras-datasets/t10k-images-idx3-ubyte.gz\n",
            "4423680/4422102 [==============================] - 0s 0us/step\n"
          ],
          "name": "stdout"
        }
      ]
    },
    {
      "cell_type": "markdown",
      "metadata": {
        "id": "Vo0Z2YHYAtAG",
        "colab_type": "text"
      },
      "source": [
        "## 看數據\n"
      ]
    },
    {
      "cell_type": "code",
      "metadata": {
        "id": "9hQHEGLuAuoz",
        "colab_type": "code",
        "colab": {}
      },
      "source": [
        "class_names = ['T-shirt/top', 'Trouser', 'Pullover', 'Dress', 'Coat',\n",
        "               'Sandal', 'Shirt', 'Sneaker', 'Bag', 'Ankle boot']"
      ],
      "execution_count": 0,
      "outputs": []
    },
    {
      "cell_type": "code",
      "metadata": {
        "id": "BpQUduu_Awm0",
        "colab_type": "code",
        "colab": {
          "base_uri": "https://localhost:8080/",
          "height": 33
        },
        "outputId": "e01a954f-2f7a-465e-c9d5-6d1eb36ab13a"
      },
      "source": [
        "len(x_train)"
      ],
      "execution_count": 5,
      "outputs": [
        {
          "output_type": "execute_result",
          "data": {
            "text/plain": [
              "60000"
            ]
          },
          "metadata": {
            "tags": []
          },
          "execution_count": 5
        }
      ]
    },
    {
      "cell_type": "code",
      "metadata": {
        "id": "NpxDntJCAx35",
        "colab_type": "code",
        "colab": {
          "base_uri": "https://localhost:8080/",
          "height": 33
        },
        "outputId": "c3670158-05d1-47fd-cc9f-49d08c81e3ce"
      },
      "source": [
        "len(x_test)"
      ],
      "execution_count": 6,
      "outputs": [
        {
          "output_type": "execute_result",
          "data": {
            "text/plain": [
              "10000"
            ]
          },
          "metadata": {
            "tags": []
          },
          "execution_count": 6
        }
      ]
    },
    {
      "cell_type": "code",
      "metadata": {
        "id": "ZwLTnn_6AzDd",
        "colab_type": "code",
        "colab": {
          "base_uri": "https://localhost:8080/",
          "height": 281
        },
        "outputId": "eb6a5a3d-1836-4e77-e896-b569c5064a0b"
      },
      "source": [
        "n = 1000\n",
        "print('這是', class_names[y_train[n]])\n",
        "plt.imshow(x_train[n], cmap='Greys');"
      ],
      "execution_count": 7,
      "outputs": [
        {
          "output_type": "stream",
          "text": [
            "這是 Trouser\n"
          ],
          "name": "stdout"
        },
        {
          "output_type": "display_data",
          "data": {
            "image/png": "[encoded data removed]",
            "text/plain": [
              "<Figure size 432x288 with 1 Axes>"
            ]
          },
          "metadata": {
            "tags": []
          }
        }
      ]
    },
    {
      "cell_type": "code",
      "metadata": {
        "id": "3mM83r-iA0Sz",
        "colab_type": "code",
        "colab": {
          "base_uri": "https://localhost:8080/",
          "height": 106
        },
        "outputId": "d10b188e-8447-4c18-896f-ecbe9e5eb9e4"
      },
      "source": [
        "pick = np.random.choice(60000, 5, replace=False)\n",
        "\n",
        "for i in range(5):\n",
        "    n = pick[i]\n",
        "    ax = plt.subplot(151+i)\n",
        "    ax.set_xticks([])\n",
        "    ax.set_yticks([])\n",
        "    ax.set_title(class_names[y_train[n]], fontsize=10)\n",
        "    plt.imshow(x_train[n], cmap='Greys')  "
      ],
      "execution_count": 8,
      "outputs": [
        {
          "output_type": "display_data",
          "data": {
            "image/png": "[encoded data removed]",
            "text/plain": [
              "<Figure size 432x288 with 5 Axes>"
            ]
          },
          "metadata": {
            "tags": []
          }
        }
      ]
    },
    {
      "cell_type": "code",
      "metadata": {
        "id": "obZMeQbIA13u",
        "colab_type": "code",
        "colab": {
          "base_uri": "https://localhost:8080/",
          "height": 33
        },
        "outputId": "6f9adcf1-fa6a-4c37-e615-f1f35ffd2565"
      },
      "source": [
        "x_train.shape"
      ],
      "execution_count": 9,
      "outputs": [
        {
          "output_type": "execute_result",
          "data": {
            "text/plain": [
              "(60000, 28, 28)"
            ]
          },
          "metadata": {
            "tags": []
          },
          "execution_count": 9
        }
      ]
    },
    {
      "cell_type": "code",
      "metadata": {
        "id": "uh6x7lwGA3AK",
        "colab_type": "code",
        "colab": {}
      },
      "source": [
        "x_train = x_train/255\n",
        "x_test = x_test/255"
      ],
      "execution_count": 0,
      "outputs": []
    },
    {
      "cell_type": "code",
      "metadata": {
        "id": "lWMpN1RYA3-M",
        "colab_type": "code",
        "colab": {}
      },
      "source": [
        "x_train = x_train.reshape(60000, 784)\n",
        "x_test = x_test.reshape(10000, 784)"
      ],
      "execution_count": 0,
      "outputs": []
    },
    {
      "cell_type": "code",
      "metadata": {
        "id": "M1JgSRGWA4yY",
        "colab_type": "code",
        "colab": {
          "base_uri": "https://localhost:8080/",
          "height": 33
        },
        "outputId": "7d2615d0-3e7d-4d43-c0c0-48bd4a10c780"
      },
      "source": [
        "from tensorflow.keras.utils import to_categorical\n",
        "y_train = to_categorical(y_train, 10)\n",
        "y_test = to_categorical(y_test, 10)\n",
        "y_train[8] #test"
      ],
      "execution_count": 12,
      "outputs": [
        {
          "output_type": "execute_result",
          "data": {
            "text/plain": [
              "array([0., 0., 0., 0., 0., 1., 0., 0., 0., 0.], dtype=float32)"
            ]
          },
          "metadata": {
            "tags": []
          },
          "execution_count": 12
        }
      ]
    },
    {
      "cell_type": "markdown",
      "metadata": {
        "id": "MId-5CZRA5t3",
        "colab_type": "text"
      },
      "source": [
        "## 打造神經網路"
      ]
    },
    {
      "cell_type": "code",
      "metadata": {
        "id": "tdndc2ipA67e",
        "colab_type": "code",
        "colab": {}
      },
      "source": [
        "from tensorflow.keras.models import Sequential\n",
        "from tensorflow.keras.layers import Dense\n",
        "from tensorflow.keras.optimizers import SGD"
      ],
      "execution_count": 0,
      "outputs": []
    },
    {
      "cell_type": "code",
      "metadata": {
        "id": "JaPJ16fXA8po",
        "colab_type": "code",
        "colab": {}
      },
      "source": [
        "model = Sequential()"
      ],
      "execution_count": 0,
      "outputs": []
    },
    {
      "cell_type": "code",
      "metadata": {
        "id": "JJITNx1aA-Fd",
        "colab_type": "code",
        "colab": {}
      },
      "source": [
        "model.add(Dense(150,input_dim=784,activation='relu'))\n",
        "model.add(Dense(100,activation='relu'))\n",
        "model.add(Dense(500,activation='relu'))\n",
        "model.add(Dense(10,activation='softmax'))"
      ],
      "execution_count": 0,
      "outputs": []
    },
    {
      "cell_type": "markdown",
      "metadata": {
        "id": "7uYUEXRHBdrA",
        "colab_type": "text"
      },
      "source": [
        "## 組裝神經網路"
      ]
    },
    {
      "cell_type": "code",
      "metadata": {
        "id": "ynAm0_ppA-9B",
        "colab_type": "code",
        "colab": {
          "base_uri": "https://localhost:8080/",
          "height": 284
        },
        "outputId": "af8323c8-3726-449b-e236-5b77331ef263"
      },
      "source": [
        "model.compile(loss='mse', optimizer=SGD(lr=0.087), metrics=['accuracy'])\n",
        "model.summary()"
      ],
      "execution_count": 17,
      "outputs": [
        {
          "output_type": "stream",
          "text": [
            "Model: \"sequential\"\n",
            "_________________________________________________________________\n",
            "Layer (type)                 Output Shape              Param #   \n",
            "=================================================================\n",
            "dense (Dense)                (None, 150)               117750    \n",
            "_________________________________________________________________\n",
            "dense_1 (Dense)              (None, 100)               15100     \n",
            "_________________________________________________________________\n",
            "dense_2 (Dense)              (None, 500)               50500     \n",
            "_________________________________________________________________\n",
            "dense_3 (Dense)              (None, 10)                5010      \n",
            "=================================================================\n",
            "Total params: 188,360\n",
            "Trainable params: 188,360\n",
            "Non-trainable params: 0\n",
            "_________________________________________________________________\n"
          ],
          "name": "stdout"
        }
      ]
    },
    {
      "cell_type": "code",
      "metadata": {
        "id": "FBN61ol9A_7F",
        "colab_type": "code",
        "colab": {
          "base_uri": "https://localhost:8080/",
          "height": 739
        },
        "outputId": "25417b0e-1add-4b49-834e-68c5502aaffe"
      },
      "source": [
        "one = model.fit(x_train, y_train, validation_data=(x_test, y_test),batch_size=88, epochs=21) #學習率和訓練次數做更動"
      ],
      "execution_count": 18,
      "outputs": [
        {
          "output_type": "stream",
          "text": [
            "Epoch 1/21\n",
            "682/682 [==============================] - 4s 6ms/step - loss: 0.0803 - accuracy: 0.3900 - val_loss: 0.0626 - val_accuracy: 0.6275\n",
            "Epoch 2/21\n",
            "682/682 [==============================] - 4s 6ms/step - loss: 0.0482 - accuracy: 0.6655 - val_loss: 0.0417 - val_accuracy: 0.6823\n",
            "Epoch 3/21\n",
            "682/682 [==============================] - 4s 5ms/step - loss: 0.0377 - accuracy: 0.7348 - val_loss: 0.0361 - val_accuracy: 0.7488\n",
            "Epoch 4/21\n",
            "682/682 [==============================] - 4s 5ms/step - loss: 0.0324 - accuracy: 0.7893 - val_loss: 0.0314 - val_accuracy: 0.7884\n",
            "Epoch 5/21\n",
            "682/682 [==============================] - 3s 5ms/step - loss: 0.0290 - accuracy: 0.8101 - val_loss: 0.0298 - val_accuracy: 0.7998\n",
            "Epoch 6/21\n",
            "682/682 [==============================] - 3s 5ms/step - loss: 0.0271 - accuracy: 0.8204 - val_loss: 0.0274 - val_accuracy: 0.8139\n",
            "Epoch 7/21\n",
            "682/682 [==============================] - 4s 5ms/step - loss: 0.0257 - accuracy: 0.8270 - val_loss: 0.0264 - val_accuracy: 0.8205\n",
            "Epoch 8/21\n",
            "682/682 [==============================] - 4s 5ms/step - loss: 0.0248 - accuracy: 0.8323 - val_loss: 0.0260 - val_accuracy: 0.8206\n",
            "Epoch 9/21\n",
            "682/682 [==============================] - 3s 5ms/step - loss: 0.0240 - accuracy: 0.8383 - val_loss: 0.0254 - val_accuracy: 0.8293\n",
            "Epoch 10/21\n",
            "682/682 [==============================] - 3s 5ms/step - loss: 0.0235 - accuracy: 0.8404 - val_loss: 0.0246 - val_accuracy: 0.8337\n",
            "Epoch 11/21\n",
            "682/682 [==============================] - 3s 5ms/step - loss: 0.0229 - accuracy: 0.8447 - val_loss: 0.0242 - val_accuracy: 0.8363\n",
            "Epoch 12/21\n",
            "682/682 [==============================] - 3s 5ms/step - loss: 0.0225 - accuracy: 0.8471 - val_loss: 0.0239 - val_accuracy: 0.8361\n",
            "Epoch 13/21\n",
            "682/682 [==============================] - 3s 5ms/step - loss: 0.0221 - accuracy: 0.8509 - val_loss: 0.0236 - val_accuracy: 0.8367\n",
            "Epoch 14/21\n",
            "682/682 [==============================] - 3s 5ms/step - loss: 0.0218 - accuracy: 0.8525 - val_loss: 0.0232 - val_accuracy: 0.8395\n",
            "Epoch 15/21\n",
            "682/682 [==============================] - 3s 5ms/step - loss: 0.0215 - accuracy: 0.8548 - val_loss: 0.0231 - val_accuracy: 0.8390\n",
            "Epoch 16/21\n",
            "682/682 [==============================] - 3s 5ms/step - loss: 0.0211 - accuracy: 0.8563 - val_loss: 0.0227 - val_accuracy: 0.8458\n",
            "Epoch 17/21\n",
            "682/682 [==============================] - 3s 5ms/step - loss: 0.0209 - accuracy: 0.8580 - val_loss: 0.0229 - val_accuracy: 0.8429\n",
            "Epoch 18/21\n",
            "682/682 [==============================] - 3s 5ms/step - loss: 0.0207 - accuracy: 0.8593 - val_loss: 0.0226 - val_accuracy: 0.8449\n",
            "Epoch 19/21\n",
            "682/682 [==============================] - 3s 5ms/step - loss: 0.0204 - accuracy: 0.8620 - val_loss: 0.0225 - val_accuracy: 0.8472\n",
            "Epoch 20/21\n",
            "682/682 [==============================] - 3s 5ms/step - loss: 0.0202 - accuracy: 0.8627 - val_loss: 0.0223 - val_accuracy: 0.8475\n",
            "Epoch 21/21\n",
            "682/682 [==============================] - 3s 5ms/step - loss: 0.0200 - accuracy: 0.8654 - val_loss: 0.0220 - val_accuracy: 0.8474\n"
          ],
          "name": "stdout"
        }
      ]
    },
    {
      "cell_type": "code",
      "metadata": {
        "id": "awgwXHxwBCKG",
        "colab_type": "code",
        "colab": {
          "base_uri": "https://localhost:8080/",
          "height": 87
        },
        "outputId": "98a8642e-d1b4-4278-9911-4ff2d87db925"
      },
      "source": [
        "result = model.predict_classes(x_test)"
      ],
      "execution_count": 22,
      "outputs": [
        {
          "output_type": "stream",
          "text": [
            "WARNING:tensorflow:From <ipython-input-22-63af5bb2f9b6>:1: Sequential.predict_classes (from tensorflow.python.keras.engine.sequential) is deprecated and will be removed after 2021-01-01.\n",
            "Instructions for updating:\n",
            "Please use instead:* `np.argmax(model.predict(x), axis=-1)`,   if your model does multi-class classification   (e.g. if it uses a `softmax` last-layer activation).* `(model.predict(x) > 0.5).astype(\"int32\")`,   if your model does binary classification   (e.g. if it uses a `sigmoid` last-layer activation).\n"
          ],
          "name": "stdout"
        }
      ]
    },
    {
      "cell_type": "markdown",
      "metadata": {
        "id": "la3sFobvBx_x",
        "colab_type": "text"
      },
      "source": [
        "訓練成果"
      ]
    },
    {
      "cell_type": "code",
      "metadata": {
        "id": "1y7-9yeLB1eI",
        "colab_type": "code",
        "colab": {
          "base_uri": "https://localhost:8080/",
          "height": 298
        },
        "outputId": "520a1a34-da70-43aa-c638-51c944b45730"
      },
      "source": [
        "n = eval(input(\"第幾筆:\"))\n",
        "\n",
        "list=['T-shirt/top', 'Trouser', 'Pullover', 'Dress', 'Coat', 'Sandal', 'Shirt', 'Sneaker', 'Bag', 'Ankle boot']\n",
        "for i in range(0,9):\n",
        "    if y_test[n][i]!=0:\n",
        "        a=i\n",
        "print('我的預測是：',list[result[n]],', 正確答案：',list[a])\n",
        "plt.imshow(x_test[n].reshape(28,28),cmap='Greys');"
      ],
      "execution_count": 24,
      "outputs": [
        {
          "output_type": "stream",
          "text": [
            "第幾筆:5\n",
            "我的預測是： Trouser , 正確答案： Trouser\n"
          ],
          "name": "stdout"
        },
        {
          "output_type": "display_data",
          "data": {
            "image/png": "[encoded data removed]",
            "text/plain": [
              "<Figure size 432x288 with 1 Axes>"
            ]
          },
          "metadata": {
            "tags": []
          }
        }
      ]
    },
    {
      "cell_type": "code",
      "metadata": {
        "id": "qNLauIXLB7-d",
        "colab_type": "code",
        "colab": {
          "base_uri": "https://localhost:8080/",
          "height": 298
        },
        "outputId": "77f2bec1-d291-4c47-fe08-417a205c8a37"
      },
      "source": [
        "n=5781\n",
        "print('神經網路預測：',result[n])\n",
        "plt.imshow(x_test[n].reshape(28,28),cmap='Greys')"
      ],
      "execution_count": 25,
      "outputs": [
        {
          "output_type": "stream",
          "text": [
            "神經網路預測： 5\n"
          ],
          "name": "stdout"
        },
        {
          "output_type": "execute_result",
          "data": {
            "text/plain": [
              "<matplotlib.image.AxesImage at 0x7f842af47710>"
            ]
          },
          "metadata": {
            "tags": []
          },
          "execution_count": 25
        },
        {
          "output_type": "display_data",
          "data": {
            "image/png": "[encoded data removed]",
            "text/plain": [
              "<Figure size 432x288 with 1 Axes>"
            ]
          },
          "metadata": {
            "tags": []
          }
        }
      ]
    },
    {
      "cell_type": "code",
      "metadata": {
        "id": "g3YAnFhsCvSG",
        "colab_type": "code",
        "colab": {}
      },
      "source": [
        ""
      ],
      "execution_count": 0,
      "outputs": []
    }
  ]
}