{
 "cells": [
  {
   "cell_type": "code",
   "execution_count": 3,
   "metadata": {},
   "outputs": [],
   "source": [
    "%matplotlib inline\n",
    "\n",
    "import numpy as np\n",
    "import matplotlib.pyplot as plt\n",
    "import pandas as pd"
   ]
  },
  {
   "cell_type": "code",
   "execution_count": 4,
   "metadata": {},
   "outputs": [],
   "source": [
    " from numpy.random import randint"
   ]
  },
  {
   "cell_type": "code",
   "execution_count": 7,
   "metadata": {},
   "outputs": [
    {
     "name": "stdout",
     "output_type": "stream",
     "text": [
      "5,9,7,1,8,5,8,2,6,8,4,5,5,6,5,6,9,2,4,7,5,2,2,3,4,5,2,5,9,8,2,4,1,7,3,1,6,8,6,4,3,2,9,8,3,3,7,8,6,9,1,5,1,6,9,6,7,3,6,9,3,3,3,2,6,9,3,2,5,3,9,1,3,4,4,3,2,2,2,9,7,8,5,7,1,7,8,7,4,7,8,9,4,1,3,5,9,1,1,2,"
     ]
    }
   ],
   "source": [
    "for i in range (100):\n",
    "    print(randint(1,10), end=\",\")\n",
    "#random 1-10 只有 1-9 而已"
   ]
  },
  {
   "cell_type": "code",
   "execution_count": 8,
   "metadata": {},
   "outputs": [],
   "source": [
    "words='''\n",
    "我\n",
    "我的\n",
    "妳\n",
    "妳的\n",
    "心\n",
    "溫柔\n",
    "日子\n",
    "雨\n",
    "風\n",
    "天空\n",
    "雲\n",
    "等待\n",
    "哭泣\n",
    "戀愛\n",
    "相遇\n",
    "分離\n",
    "忘記\n",
    "心醉\n",
    "驀然\n",
    "吹過\n",
    "思念\n",
    "靈魂\n",
    "停止\n",
    "椎間盤'''"
   ]
  },
  {
   "cell_type": "code",
   "execution_count": 12,
   "metadata": {},
   "outputs": [],
   "source": [
    "phrase=words.split(\"\\n\")"
   ]
  },
  {
   "cell_type": "code",
   "execution_count": 18,
   "metadata": {},
   "outputs": [
    {
     "ename": "NameError",
     "evalue": "name 'random' is not defined",
     "output_type": "error",
     "traceback": [
      "\u001b[1;31m---------------------------------------------------------------------------\u001b[0m",
      "\u001b[1;31mNameError\u001b[0m                                 Traceback (most recent call last)",
      "\u001b[1;32m<ipython-input-18-a3a82b417678>\u001b[0m in \u001b[0;36m<module>\u001b[1;34m\u001b[0m\n\u001b[0;32m      1\u001b[0m \u001b[1;32mfor\u001b[0m \u001b[0mi\u001b[0m \u001b[1;32min\u001b[0m \u001b[0mrange\u001b[0m\u001b[1;33m(\u001b[0m\u001b[1;36m8\u001b[0m\u001b[1;33m)\u001b[0m\u001b[1;33m:\u001b[0m\u001b[1;33m\u001b[0m\u001b[1;33m\u001b[0m\u001b[0m\n\u001b[1;32m----> 2\u001b[1;33m     \u001b[0mprint\u001b[0m\u001b[1;33m(\u001b[0m\u001b[0mrandom\u001b[0m\u001b[1;33m(\u001b[0m\u001b[1;34m\"phrase\"\u001b[0m\u001b[1;33m)\u001b[0m\u001b[1;33m)\u001b[0m\u001b[1;33m\u001b[0m\u001b[1;33m\u001b[0m\u001b[0m\n\u001b[0m",
      "\u001b[1;31mNameError\u001b[0m: name 'random' is not defined"
     ]
    }
   ],
   "source": [
    "for i in range(8):\n",
    "    print(random(\"phrase\"))"
   ]
  },
  {
   "cell_type": "code",
   "execution_count": 15,
   "metadata": {},
   "outputs": [],
   "source": [
    "from numpy.random import choice"
   ]
  },
  {
   "cell_type": "code",
   "execution_count": 16,
   "metadata": {},
   "outputs": [
    {
     "data": {
      "text/plain": [
       "array(['等待', '我的', '分離', '妳的', '靈魂'], dtype='<U3')"
      ]
     },
     "execution_count": 16,
     "metadata": {},
     "output_type": "execute_result"
    }
   ],
   "source": [
    "choice(phrase,5)"
   ]
  },
  {
   "cell_type": "code",
   "execution_count": 50,
   "metadata": {},
   "outputs": [
    {
     "name": "stdout",
     "output_type": "stream",
     "text": [
      "['心' '相遇' '天空' '妳' '心' '思念' '雨']\n",
      "['心' '相遇' '天空' '妳' '心' '思念' '雨']\n",
      "['心' '相遇' '天空' '妳' '心' '思念' '雨']\n"
     ]
    }
   ],
   "source": [
    "l=randint(3,6)\n",
    "ll=randint(5,8)\n",
    "egg=choice(phrase,ll)\n",
    "''.join(egg)\n",
    "\n",
    "for i in range(l):\n",
    "    print(egg)"
   ]
  },
  {
   "cell_type": "code",
   "execution_count": 59,
   "metadata": {},
   "outputs": [
    {
     "name": "stdout",
     "output_type": "stream",
     "text": [
      "天空 雲 我的 妳的 靈魂 戀愛\n",
      "風  妳 日子 心醉\n",
      "溫柔 我的 心 雲 雨 心\n",
      "分離 靈魂 風 天空 停止\n",
      "等待 等待 日子 我 雨\n"
     ]
    }
   ],
   "source": [
    "n=randint(3,6)\n",
    "\n",
    "for i in range(n):\n",
    "    k=randint(5,8)\n",
    "    egg=choice(phrase,k)\n",
    "    ham=' '.join(egg)\n",
    "    print(ham)"
   ]
  },
  {
   "cell_type": "code",
   "execution_count": 60,
   "metadata": {},
   "outputs": [
    {
     "name": "stdout",
     "output_type": "stream",
     "text": [
      "驀然 忘記 妳 風 我的 靈魂 雨\n",
      "天空 吹過 戀愛 相遇 分離 吹過 相遇\n",
      "戀愛 相遇 哭泣 忘記 吹過\n",
      "忘記 分離 哭泣 妳的 分離 溫柔\n",
      "妳的 我 雲 等待 吹過\n"
     ]
    }
   ],
   "source": [
    "for i in range(randint(3,6)):\n",
    "    print(' '.join(choice(phrase,randint(5,8))))"
   ]
  },
  {
   "cell_type": "code",
   "execution_count": 61,
   "metadata": {},
   "outputs": [
    {
     "name": "stdout",
     "output_type": "stream",
     "text": [
      "The following commands were written to file `poem.py`:\n",
      "from numpy.random import randint\n",
      "words='''\n",
      "我\n",
      "我的\n",
      "妳\n",
      "妳的\n",
      "心\n",
      "溫柔\n",
      "日子\n",
      "雨\n",
      "風\n",
      "天空\n",
      "雲\n",
      "等待\n",
      "哭泣\n",
      "戀愛\n",
      "相遇\n",
      "分離\n",
      "忘記\n",
      "心醉\n",
      "驀然\n",
      "吹過\n",
      "思念\n",
      "靈魂\n",
      "停止\n",
      "椎間盤'''\n",
      "phrase=words.split(\"\\n\")\n",
      "from numpy.random import choice\n",
      "n=randint(3,6)\n",
      "\n",
      "for i in range(n):\n",
      "    k=randint(5,8)\n",
      "    egg=choice(phrase,k)\n",
      "    ham=' '.join(egg)\n",
      "    print(ham)\n"
     ]
    }
   ],
   "source": [
    "%save \"poem.py\" 4 8 12 15 59"
   ]
  },
  {
   "cell_type": "code",
   "execution_count": null,
   "metadata": {},
   "outputs": [],
   "source": [
    "# 4 8 12 15 59"
   ]
  }
 ],
 "metadata": {
  "kernelspec": {
   "display_name": "Python 3",
   "language": "python",
   "name": "python3"
  },
  "language_info": {
   "codemirror_mode": {
    "name": "ipython",
    "version": 3
   },
   "file_extension": ".py",
   "mimetype": "text/x-python",
   "name": "python",
   "nbconvert_exporter": "python",
   "pygments_lexer": "ipython3",
   "version": "3.6.7"
  }
 },
 "nbformat": 4,
 "nbformat_minor": 2
}
