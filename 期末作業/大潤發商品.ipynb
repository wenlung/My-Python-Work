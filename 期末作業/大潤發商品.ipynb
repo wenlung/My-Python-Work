{
 "cells": [
  {
   "cell_type": "code",
   "execution_count": 1,
   "metadata": {},
   "outputs": [],
   "source": [
    "import requests\n",
    "from pyquery import PyQuery as pq"
   ]
  },
  {
   "cell_type": "code",
   "execution_count": 2,
   "metadata": {},
   "outputs": [],
   "source": [
    "HomeRes = requests.get(\"https://www.rt-mart.com.tw/direct/\")\n",
    "# HomeRes.text\n",
    "HomeDoc = pq(HomeRes.text)"
   ]
  },
  {
   "cell_type": "code",
   "execution_count": 3,
   "metadata": {},
   "outputs": [
    {
     "name": "stdout",
     "output_type": "stream",
     "text": [
      "https://www.rt-mart.com.tw/direct/index.php?action=newimport\n",
      "https://www.rt-mart.com.tw/direct/index.php?action=product_sort&prod_sort_uid=3793\n",
      "https://www.rt-mart.com.tw/direct/index.php?action=product_sort&prod_sort_uid=3737\n",
      "https://www.rt-mart.com.tw/direct/index.php?action=product_sort&prod_sort_uid=3739\n",
      "https://www.rt-mart.com.tw/direct/index.php?action=product_sort&prod_sort_uid=3742\n",
      "https://www.rt-mart.com.tw/direct/index.php?action=product_sort&prod_sort_uid=3755\n",
      "https://www.rt-mart.com.tw/direct/index.php?action=product_sort&prod_sort_uid=3743\n",
      "https://www.rt-mart.com.tw/direct/index.php?action=product_sort&prod_sort_uid=3745\n",
      "https://www.rt-mart.com.tw/direct/index.php?action=product_sort&prod_sort_uid=3747\n",
      "https://www.rt-mart.com.tw/direct/index.php?action=product_sort&prod_sort_uid=3746\n",
      "https://www.rt-mart.com.tw/direct/index.php?action=product_sort&prod_sort_uid=25114\n",
      "https://www.rt-mart.com.tw/direct/index.php?action=product_sort&prod_sort_uid=3748\n",
      "https://www.rt-mart.com.tw/direct/index.php?action=product_sort&prod_sort_uid=30964\n",
      "https://www.rt-mart.com.tw/direct/index.php?action=product_sort&prod_sort_uid=3738\n",
      "https://www.rt-mart.com.tw/direct/index.php?action=product_sort&prod_sort_uid=103030\n",
      "https://www.rt-mart.com.tw/direct/index.php?action=product_sort&prod_sort_uid=3749\n",
      "https://www.rt-mart.com.tw/direct/index.php?action=product_sort&prod_sort_uid=71505\n"
     ]
    }
   ],
   "source": [
    "dataList=[]\n",
    "CateList=HomeDoc(\".footerNavContent>ul>li>h3>a\")\n",
    "for Eachcast in CateList.items():\n",
    "    print(Eachcast.attr(\"href\"))\n",
    "    CateRes = requests.get(Eachcast.attr(\"href\"))\n",
    "# HomeRes.text\n",
    "    CateDoc = pq(CateRes.text)\n",
    "    CateList2=CateDoc(\".classify_title>a\")\n",
    "    for Eachcast2 in CateList2.items():\n",
    "        if Eachcast2.attr(\"href\")==\"javascript: void(0);\":\n",
    "            continue\n",
    "#         print(Eachcast2.attr(\"href\"))\n",
    "        CateRes2 = requests.get(Eachcast2.attr(\"href\"))\n",
    "        CateDoc2 = pq(CateRes2.text)\n",
    "        #part2\n",
    "        pg=1\n",
    "        nextPgDoc=CateDoc2\n",
    "        while True:\n",
    "    #         print(len(CateDoc2(\".indexProList\")))\n",
    "            itemLi=nextPgDoc(\".indexProList\")\n",
    "##           print(len(itemLi),CateRes2.url+\"&prod_size=&p_data_num=18&usort=auto_date%2CDESC&page={}\".format(pg))\n",
    "            for eachItemDoc in itemLi.items():\n",
    "                dataDict={}\n",
    "                dataDict[\"title\"]=eachItemDoc(\"h5\").text()\n",
    "                dataDict[\"price\"]=eachItemDoc(\".for_pricebox\").text()\n",
    "                dataList.append(dataDict)\n",
    "    #             print(eachItemDoc(\"h5\").text())\n",
    "    #             print(eachItemDoc(\".for_pricebox\").text())\n",
    "            pg+=1\n",
    "            if len(itemLi)==0:\n",
    "                break\n",
    "            nextPgRes = requests.get(CateRes2.url+\"&prod_size=&p_data_num=18&usort=aut\\\n",
    "            o_date%2CDESC&page={}\".format(pg))\n",
    "            nextPgDoc = pq(nextPgRes.text)\n",
    "\n",
    "\n",
    "            "
   ]
  },
  {
   "cell_type": "code",
   "execution_count": null,
   "metadata": {},
   "outputs": [],
   "source": [
    "dataList"
   ]
  },
  {
   "cell_type": "code",
   "execution_count": null,
   "metadata": {},
   "outputs": [],
   "source": []
  }
 ],
 "metadata": {
  "kernelspec": {
   "display_name": "Python 3",
   "language": "python",
   "name": "python3"
  },
  "language_info": {
   "codemirror_mode": {
    "name": "ipython",
    "version": 3
   },
   "file_extension": ".py",
   "mimetype": "text/x-python",
   "name": "python",
   "nbconvert_exporter": "python",
   "pygments_lexer": "ipython3",
   "version": "3.6.7"
  }
 },
 "nbformat": 4,
 "nbformat_minor": 2
}
