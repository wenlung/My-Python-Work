{
 "cells": [
  {
   "cell_type": "code",
   "execution_count": 5,
   "metadata": {},
   "outputs": [],
   "source": [
    "#排網頁用的\n",
    "import requests\n",
    "from pyquery import PyQuery as pq\n",
    "#捲網頁用的\n",
    "from selenium import webdriver\n",
    "from bs4 import BeautifulSoup\n",
    "from time import sleep"
   ]
  },
  {
   "cell_type": "code",
   "execution_count": 6,
   "metadata": {},
   "outputs": [],
   "source": [
    "res = requests.get(\"https://tw.buy.yahoo.com/sitemap/category-list\")\n",
    "doc = pq(res.text)\n",
    "#用request 跟 pyquery 把資料讀進來"
   ]
  },
  {
   "cell_type": "code",
   "execution_count": 3,
   "metadata": {
    "collapsed": true
   },
   "outputs": [
    {
     "data": {
      "text/plain": [
       "'智慧型手機 一般型手機 福利機 耳機 藍牙耳機 藍牙接收器 耳機擴大機 耳機週邊 MP3播放器 AirPods 錄音筆/機 智慧型手錶/手環 智慧穿戴配件 VR頭戴裝置 Apple Watch 數位相機 單眼/微單眼/類單眼 相機鏡頭 拍立得 拍立得底片 運動攝影機 數位攝影機 攝影機配件 微型攝影機 空拍機/無人機 空拍機配件 穩定器 望遠鏡 顯微鏡 放大鏡 保護殼/皮套 保護貼/螢幕貼 自拍棒 手機支架 外接鏡頭 數位週邊 防水袋 手機頸掛繩 上網卡 捲線器 觸控筆 lightning線 Micro USB線 typc-C線 HDMI/轉接頭 USB充電器 無線充電版 防潮箱 相機包 相機背帶 腳架/雲台 閃燈/手把 濾鏡/偏光鏡/UV鏡 鏡頭配件 相機週邊 相機清潔/保護貼 攝影棚器材 行動電源 充電電池 一般電池 手機電池 相機電池 充電器 變壓器 網路攝影機 寵物攝影機 智慧電子鎖 智能家居設備 空氣品質偵測器 智慧防丟定位器 智慧機器人 智能音箱 視訊會議系統 實物攝影機 居家安全 滅火器/火災警報器 防盜警報器 無線監視系統 監控攝影主機 監控攝影組合 監視器攝影機 監控居家週邊 電視 電視配件 壁掛架 電視盒/電視棒 DVD/藍光播放器 影音線材 藍牙喇叭/音響 揚聲器喇叭 音響/家庭劇院 擴大機 麥克風 卡拉OK/KTV CD播放/收音機 黑膠唱盤 投影機 布幕 投影機週邊 果汁/冰沙機 咖啡機/咖啡壺 電子鍋/電鍋 烤箱 微波爐 電磁爐 快煮壺/熱水瓶 開飲機 氣泡水機 洗碗/烘碗機 淨水設備/配件 瓦斯爐 除油煙機 烤/製麵包機 氣炸鍋/油炸鍋 點心家電 廚房小家電/配件 電話/對講機 熨斗 掛燙機 捕蚊燈 驅蟲/驅鼠器 縫紉機 檯燈 保險箱/櫃 電動工具 超音波清洗機 熱水器 免治馬桶 生活家電配件 雙11福袋組 吸塵器 掃地機器人 除蟎機 蒸氣拖把 吸塵器耗材/配件 掃地機器人耗材 除濕機 空氣清淨機 烘衣/烘鞋/烘被機 吹風機 電捲棒 電動牙刷 電鬍刀 美體刀/除毛刀/冰刀 電動鼻毛刀 洗臉機/美容儀 剪髮器 沙發按摩椅 按摩家電 肩頸腰背按摩 足部美腿機 桑拿機/三溫暖 泡腳機/足浴機 冷氣 電風扇 電暖器 電熱毯 隨身暖蛋/懷爐 變頻300L以下 變頻301-599L 變頻600L以上 定頻300L以下 定頻301-599L 定頻600L以上 冷藏/冷凍櫃 儲酒櫃 迷你行動冰箱 電冰箱週邊配件 變頻10KG以下 變頻11-13KG 變頻14-15KG 變頻16KG以上 定頻10KG以下 定頻11-13KG 定頻14-15KG 定頻16KG以上 脫水/乾衣機 洗衣機週邊配件 電動變頻按摩棒 AV女優按摩棒 造型按摩棒 無線APP跳蛋 有線變頻跳蛋 凱格爾聰明球 手持自愛器 電動飛機杯 1:1真人娃娃 同志系列專區 男性增強專區 另類調情/SM用品 潤滑液/費洛蒙香水 其他情趣用品 MacBook 輕薄筆電 電競筆電 效能筆電 文書筆電 商用筆電 小筆電 2 in 1筆電 繪圖工作站 雲端筆電 筆電福利品 文書桌上型電腦 Intel i3/i5/i7 入門級獨立顯卡 GTX獨立顯卡 AIO桌上型電腦 Mini 桌上型電腦 商用電腦 商用伺服器 繪圖工作站 iMac Mac Mini 福利品專區 無卡分期專區 準系統 自選規格 Intel 賽揚/奔騰 Intel i3/i5/i7 AMD 雙核 /四核 AMD 六核/八核 入門級獨立顯卡 GTX獨立顯卡 福利品專區 無卡分期專區 19型以下螢幕 20型螢幕 22型螢幕 23型螢幕 24型螢幕 25型螢幕 27型螢幕 28型螢幕 29型螢幕 32型螢幕 34~40型螢幕 40型以上螢幕 觸控螢幕/工控螢幕 電腦螢幕週邊 螢幕支架 電腦螢幕福利品 無卡分期專區 iPad iPad Pro 7-8吋平板 9-10吋平板 iPad配件 平板配件 平板保護貼 遊戲軟體 遊戲主機 遊戲配件 點數卡 CPU中央處理器 記憶體 主機板 顯示卡 機殼 電源供應器 光碟機/燒錄機 音效卡 擴充卡 散熱裝置 硬碟內外接盒 滑鼠 鍵盤 鍵盤滑鼠組 手寫板/繪圖板 滑鼠墊/配件 外接SSD 外接硬碟 NAS網路硬碟 記憶卡 隨身碟 讀卡機 光碟片 內接硬碟 SSD 印表機 隨身相印機 3D印表機 標籤機 掃描器 條碼列印機 條碼掃描器 大圖輸出機 耗材/印表機週邊 福利品專區 碎紙機 傳真機/護貝機 簡報器/簡報筆/雷射筆 收銀/支票/點鈔機 裁切/裝訂/打孔機 打卡鐘 封口/電動釘書機 事務用品 閱讀器/電子書 筆電包 電腦軟體 網路設備 USB週邊 線材/影音傳輸 UPS不斷電系統 翻譯機/口譯機 麥克風 筆電電池 筆電保護貼/防窺片 鍵盤保護膜 筆電散熱墊 螢幕架/折疊桌 濾藍光眼鏡 電腦清潔/收納 其他電腦週邊 歐系精品包/配件 美日精品包/配件 精品服飾/鞋子 太陽眼鏡/眼鏡 agnes b. CHANEL香奈兒 COACH LV路易威登 GUCCI MICHAEL KORS PRADA LULU GUINNESS 皮革清潔保養 手錶 手錶配件/錶帶 時鐘 SEIKO CITIZEN CASIO ORIS LONGINES TISSOT Daniel Wellington HAMILTON MIDO FOSSIL Georg Jensen Tiffany&Co. CHANEL SWAROVSKI PANDORA apm MONACO Calvin Klein HERMES 國際名牌飾品 Couture Kingdom ANGEMIEL安婕米 PAUL HEWITT Leger 日本羽鈦 Royal Damon 羅亞戴蒙 Wanderlust+Co YUME SOUFEEL Les Nereides Dogeared STORY+ Gorjana 專櫃飾品 金屬飾品清潔保養 黃金項鍊/墜子 黃金耳環 黃金戒指 黃金對戒 黃金手鍊/手環 黃金腳鍊 黃金串珠/吊飾 金幣/金條/金元寶 黃金套組 彌月金飾 黃金擺件 鑽石求婚戒 鑽石線戒 鑽石耳環 鑽石項鍊/吊墜 鑽石手鍊/手環 鑽石婚戒/女戒 鑽石男戒 結婚對戒 鉑金/白金 K金 珍珠 白銀 天然寶石 項鍊/頸鍊 耳環 戒指/尾戒 手鍊/手環/手繩 腳鍊 吊飾/別針 珠寶盒/飾品架 造型上衣 襯衫 雪紡上衣 針織衫/毛衣 風衣外套 毛呢/羽絨大衣 西裝外套 飛行外套 皮衣 罩衫/圍巾/領片 T恤/帽T 背心 西裝褲 寬褲 牛仔褲 內搭褲 短褲 高腰褲 吊帶褲 褲裙 窄裙 長/短裙 魚尾裙 牛仔裙 洋裝 禮服洋裝 蕾絲洋裝 襯衫領洋裝 長洋裝 露肩一字領洋裝 假兩件洋裝 休閒洋裝 無袖洋裝 細肩帶洋裝 雪紡洋裝 風衣/皮衣 牛仔/連帽外套 毛呢外套 鋪棉/羽絨外套 西裝外套 針織衫/毛衣 雪紡上衣 蕾絲上衣 襯衫 大學衣/帽T T恤 背心上衣 機能內搭/小可愛 Polo衫 長褲 短褲 連身褲 寬褲/褲裙 牛仔褲 縮口褲 高腰褲 迷你裙/短裙 長裙/及膝裙 內搭褲/裙 牛仔裙 百褶裙 小洋裝 長洋裝 小禮服 晚禮服 連身裙 露肩平口洋裝 套裝 旗袍 背心洋裝 婚紗 禮服配件 T恤 背心 POLO衫 帽T 大學T 針織衫/毛衣 襯衫 連帽外套 牛仔外套 大衣/風衣/皮衣 羽絨外套 鋪棉外套 棒球/飛行外套 運動外套 洋裝 發熱衣/涼感衣/吸排衫 窄管褲 直筒褲 工作褲 縮口褲 休閒褲 棉褲 短褲/短裙 吊帶褲/裙 男友褲 涼感褲 靴型褲 喇叭褲 寬褲 大學T 帽T T恤 針織衫/毛衣 襯衫 POLO衫 西裝 飛行外套 連帽外套 羽絨外套 風衣 發熱衣/涼感衣/內搭衣 縮口褲 工作褲 休閒褲 西裝褲 長褲 短褲 棉褲 寬褲 牛仔褲 運動褲 海灘褲 發熱褲/涼感褲/內搭褲 風衣/夾克/牛仔外套 毛呢/羊毛外套 鋪棉/羽絨外套 西服/西裝外套 針織衫/毛衣 雪紡上衣 襯衫 帽T/大學衣 T恤 背心上衣 發熱衣/涼感衣/內搭衣 連身衣/褲 長褲 短褲 連身褲/套裝 寬褲/褲裙 牛仔褲/裙 迷你裙/短裙 長裙/及膝裙 內搭褲裙 西裝褲 小洋裝 長洋裝 西服/禮服 帽子 圍巾/披肩 絲巾 手套 皮帶 領帶/領結/週邊 眼鏡 髮飾 假髮 防曬配件 其他穿搭配件 無鋼圈內衣 學生內衣 運動內衣 束胸 成套內衣 隱形內衣 集中包覆內衣 大罩杯內衣 無痕內衣 內搭/小可愛/Bra Top 內衣配件 內褲 無痕內褲 情趣內褲 丁字褲 生理褲 蠶絲內褲 機能內褲 男內衣 寬鬆四角內褲 合身四角內褲 三角內褲 丁字褲 男塑身衣褲 性感睡衣 罩衫 情趣睡衣 情趣內衣 大腿襪/吊襪帶 表演服/派對服 配件道具 大尺碼 短袖連身睡衣 短袖兩件睡衣 長袖連身睡衣 長袖兩件睡衣 睡袍 發熱衣發熱褲 衛生衣褲 塑身衣 塑身褲 連身塑身 局部塑身 骨盆帶/骨盆褲 托胸防駝 絲襪/褲襪 紳士襪 隱形襪 五趾襪 健康加壓襪 兒童襪 棉襪 抗菌/除臭襪 運動襪 美腿襪 後背包 斜/肩背包 手提/手拿包 長夾 中短夾 零錢鑰匙包 名片夾/卡夾/鈔票夾 包包配件 單肩/胸包/腰包 OUTLET專區 後背包 單肩/胸包 斜/肩背包 運動/登山包 手提/手拿包 腰包 中短夾 長夾 零錢鑰匙包 名片夾/卡夾/鈔票夾 OUTLET專區 19吋以下行李箱 20-25吋行李箱 26-28吋行李箱 29吋以上行李箱 多件組行李箱 行李車 行李箱套 密碼鎖 行李秤 束帶/吊牌 福利品專區 化妝盥洗包 收納分裝 護照套 頸枕眼罩 旅行袋 防搶專區 旅遊小物 涼鞋 拖鞋 平底鞋 休閒/懶人鞋 牛津/樂福鞋 中低跟鞋 高跟鞋 踝靴/短靴 中/長筒靴 雨鞋/雨靴 涼鞋/拖鞋 皮鞋 休閒鞋 鞋墊 增高墊 後跟貼 清潔/保養 防水/防汙 除臭香氛/抗菌 分趾器/防護套 染色劑 鞋拔 鞋撐/靴撐/擴鞋器 鞋帶 其他鞋材 歐美品牌 日系品牌 韓系品牌 MIT品牌 美容小工具 歐美品牌 日系品牌 韓系品牌 MIT品牌 歐美品牌 日系品牌 韓系品牌 MIT品牌 美容小工具 香水 香氛 水氧機 衛生紙 廚房紙巾 袖珍面紙 衛生棉 衛生棉條 護墊 尿布/紙尿褲 成人紙尿褲 濕紙巾 洗衣精/洗衣粉 柔軟精/手洗精 漂白水/去漬 衣物香氛 洗衣用品 洗碗精 家用清潔劑 漂白水 刷具 掃把/拖把 菜瓜布/抹布 垃圾袋 垃圾筒 除濕/防霉 除臭/去味/芳香 除蟲/防蟲 抗菌用品 洗髮精 潤絲/髮膜 護髮品/髮油 定型劑/噴霧/慕斯 染髮劑 燙髮/調整燙 頭皮保養 梳子/美髮工具 洗面乳 沐浴乳/沐浴精 洗手乳/洗手皂/乾洗手 私密清潔保養 手工皂/香皂 除毛用品/除毛膏 止汗劑 刮鬍泡 清潔保養組合 牙膏 牙刷 漱口水 牙線/牙籤 假牙清潔 牙齒美白 化妝棉品 指甲剪/銼刀 掏耳棒 刮鬍刀/除毛刀 棉花棒 免洗褲/免洗襪 防身/防狼用品 暖暖包/蒸氣眼罩 日韓夾心餅/派餅/蛋糕 日韓洋芋片/薯條 日韓海味/豆果子/起司條 日韓捲心酥/蛋捲/棒棒餅 日韓點心麵/小點心 日韓薄餅/煎餅/蘇打餅 日韓仙貝米果 日韓果凍/布丁/羊羹 日韓糖果/喉糖/口香糖 日韓禮盒 夾心餅/派餅/蛋糕 洋芋片/薯條/休閒餅乾 海苔/蝦餅/海味 捲心酥/蛋捲/棒棒餅 點心麵/小點心 薄餅/煎餅/蘇打餅 米果/爆米花 布丁/果凍 肉乾/肉紙 豆乾/鐵蛋/蒟蒻乾 糖果/喉糖/口香糖 貢糖/牛軋糖/古早味餅乾 禮盒 巧克力 巧克力禮盒 瓜子/花生/開心果 堅果 果乾/蔬果脆片 長條蛋糕 圓蛋糕 造型蛋糕 泡芙/馬卡龍/小蛋糕 麵包/餐包 鳳梨酥/月餅/傳統糕餅 冰品/甜湯 水 飲料 咖啡 茶飲 果汁 奶粉/牛奶 茶包/茶葉 養生沖泡飲品 麥片/穀物脆片 沖泡茶飲/可可 泡麵 烘焙原料 豆穀/米麵 南北乾貨 調味料 食用油 湯底/湯塊 罐頭/抹醬 覆熱熟食 滷味 傳統小吃 湯品 調理包 蔬果 肉品 海鮮 機能保健 維他命 雞精/滴雞精 睛亮保健 特殊營養品 抗敏保健 骨骼保健 逆齡/美肌美顏 順暢窈窕 運動保健/代餐 口罩/抗菌 體重計/體脂計 隱形眼鏡清潔 日常護理/藥品 輔具/居家照護 保險套/潤滑液 冷熱敷墊/護具 痘痘貼 奶粉 嬰幼食品 濕紙巾/棉巾 奶瓶蔬果洗潔液 嬰兒洗衣精 布尿褲/學習褲 尿布處理器 圍兜 奶嘴 固齒器/安撫奶嘴 奶瓶 奶粉盒/奶瓶刷 奶瓶消毒鍋 調乳器/溫奶器 副食品調理器具 餐具 防漏/防灑杯 水壺/學習杯 哺乳巾 吸乳器/擠乳器 母乳袋/防溢乳墊 安撫巾/玩偶/夾鏈 尿布墊/收納 口腔清潔 嬰幼洗手乳 沐浴乳/泡泡露 洗髮精/護髮乳 嬰幼護唇膏 寶寶護膚 嬰幼防曬乳/曬後舒緩 寶寶護理週邊 防蚊液/防蚊乳 口罩/抗菌液 學習便器 洗澡用具 口水巾/手帕 安全汽車座椅 推車/傘車 餐椅 包巾/背巾/口水墊 搖椅/搖床/遊戲床 嬰兒床 嬰幼床墊 床寢具套/包組 保潔墊 枕頭/枕套 涼蓆/涼墊 毛毯/攜帶毯 棉被/涼被 防踢被 睡袋 床邊收納/配件 兒童椅櫃/收納 嬰兒床蚊帳 床邊搖鈴/掛鈴 夜燈 床欄/床圍 爬行墊/遊戲墊 防撞/門檔 門欄 防走失繩/包 防走失警報器 嬰兒監聽器 孕婦裝 孕婦保養 產後瘦身 待產包 孕補品 媽媽包 揹巾/週邊 娃娃/玩偶 體能玩具 樂高/積木 益智玩具 動漫/模型 嬰幼玩具 兒童玩具 大人的玩具 桌遊 創意/減壓 科學玩具 學步車/滑步車 包屁衣 上衣 褲子 裙子/褲裙 洋裝/連身裙 外套/背心外套 套裝組合 內著/內衣/內褲 睡衣/家居服 兒童穿搭配件 泳衣/泳帽/泳鏡 兒童包包 書包 便當袋 運動鞋/休閒鞋 皮鞋/公主鞋 寶寶鞋 涼鞋/拖鞋 靴子/雪靴/雨鞋 文學小說 商業理財 醫療保健 塑身/飲食 心靈/人文/科普 旅遊/生活 親子教養 童書 漫畫/輕小說/圖文 語言學習 攝影/藝術/設計 公職考用書 雜誌訂閱 限制級書籍 鋼筆 筆 文具用品 紙製品/筆記本 美術/繪畫用品 計算機 辦公事務用品 收納用品 文創小物 漫威電影 迪士尼DVD 電影藍光BD 電影DVD 歐美影集 電視劇 卡通動畫 兒童學習DVD 音樂CD 演唱會DVD 限制級影音 鍵盤樂器 打擊樂器 管弦樂器 吉他 /烏克麗麗 直笛 調音器/節拍器 錄音設備 樂器週邊配件 狗飼料 狗罐頭/餐包 狗零食 貓飼料 貓罐頭/餐包 貓零食 小動物飼料 水族飼料 寵物營養品 貓砂 尿布墊/便盆 寵物餵食餐具 寵物籠/睡窩/床/屋 寵物介護/輔助 寵物清潔美容用品 寵物沐浴/洗毛精 口眼耳皮護理/驅蟲 環境清潔 寵物玩具 寵物衣服 寵物外出用品 小動物用品 水族用品 炒鍋25cm以下 炒鍋26~30cm 炒鍋31cm以上 平底鍋25cm以下 平底鍋26-30cm 平底鍋31cm以上 湯鍋20cm以下 湯鍋21-25cm 湯鍋26cm以上 鑄鐵鍋 雪平/調理鍋 烤盤 琴音壺/煮水壺 塔吉鍋/陶鍋 壓力鍋/快鍋/燜燒鍋 鍋蓋/鍋架/手把 鍋鏟 湯勺/撈勺/漏勺/濾網 料理筷/夾/叉 蒸盤/蒸架 餐盤 餐碗 碗盤組 筷/匙 刀/叉 水果籃/托盤 環保餐具 便當盒 便當袋/保溫袋 杯子 壺 隨行杯 保溫杯 保溫壺 燜燒罐 吸管 杯蓋/杯墊 酒杯 醒酒瓶/酒壺 酒瓶塞/醒酒器 酒架 酒器配件 保鮮盒 保鮮罐 食物儲存盒/罐 保鮮膜/鋁箔紙 保鮮蓋/保鮮袋 濾水壺 濾芯 省水閥 櫥下型 茶具 虹吸咖啡壺 耐熱咖啡壺 冰滴咖啡壺 摩卡壺 手沖細口壺 法式濾壓壺 濾紙/濾杯/濾網 其他壺款 奶泡器 拉花/奶泡杯 磨豆機 儲豆/咖啡渣桶 其他配件 卡式瓦斯爐 剝蒜/刨絲/製麵器 開罐器 調味罐/油壺 榨汁器 製冰器具/解凍 瀝水/洗米器 密封袋/封口機 醬料刷/毛刷/油刷 餐墊/隔熱墊 隔熱手套/圍裙 廚房油煙防污壁貼 計時器/溫度計 料理秤/磅秤 量匙/量杯 模具 烤盤/烤盅 擠花器/擠花袋 烘焙墊/調理紙 桿麵棍/桿麵墊 刮刀/抹刀 打蛋器/調理盆 翻糖裝飾 烘焙裝飾 麵粉篩/濾網 烘焙小物 刀具 廚房剪刀/料理剪 磨刀器/刀架 砧板 鹽燈 開運飾品 開運擺件 水晶碎石 流水盆/聚寶盆 風水法器 神像佛像 開運印鑑 金紙/祭祀用品 電腦桌/辦公桌 電腦椅/辦公椅 兒童成長桌椅 茶几/邊桌/和室桌 餐椅/折疊椅/椅凳 餐桌/書桌/桌椅組 化妝桌椅 吧台椅/高腳椅 吧台桌 戶外桌椅 麻將桌 衣櫃 斗櫃 廚房櫃/餐櫃/餐車 床頭櫃 書櫃/書架 收納櫃 鞋櫃/穿鞋椅櫃 電視櫃/電視架 活動櫃 訂製櫃子 屏風 布沙發 皮沙發 實木沙發 沙發床 躺椅 沙發椅凳 和室椅/懶骨頭 抽屜收納櫃 收納箱/籃/盒 層架/隙縫架/推車 廚房收納 衛浴收納 壓縮/防塵/收納袋 洗曬/整燙用品 鞋架/鞋盒/鞋插 螢幕架 化妝品/桌面小物 延長線/線材收納 無痕/掛勾/吊桿 衣帽架 /傘桶 乳膠床墊 獨立筒床墊 記憶床墊 彈簧床墊 折疊床墊 雙層床 氣墊床 床架/床頭 房間組 涼墊 /發熱墊 單人寢具組 雙人寢具組 加大/特大寢具組 記憶枕 乳膠枕 獨立筒枕 其他枕類 羊毛被 羽絨被 纖維被 四季被 法蘭絨毯被 其他毯被 保潔墊 枕套/被套 沙發套/椅套 掛飾/簾子/桌巾/佈置 睡簾/蚊帳 地墊/地毯 抱枕/靠墊 椅墊/坐墊 壁紙/壁貼 鏡子 室內拖鞋 相框 檯燈照明/燈飾 地板/地貼 修繕工具 油漆/塗料 工作梯 手推車/拖板車 盆栽園藝 吊扇 馬桶 毛巾/浴袍 浴室用品 衛浴設備 雨傘/雨衣 打火機/菸具 生活雜貨 時鐘 籃球鞋 慢跑鞋 涼拖鞋 健走鞋 其他專業球鞋 休閒鞋 童鞋 籃球鞋 慢跑鞋 涼拖鞋 健走鞋 其他專業球鞋 休閒鞋 童鞋 上衣 背心 外套 褲子 訓練服飾 上衣 背心 外套 短褲/裙 長褲 訓練服飾 休閒運動鞋 懶人鞋 帆布鞋 涼拖鞋 紳士鞋 靴子 防水鞋/雨靴 工作鞋 休閒運動鞋 懶人鞋 帆布鞋 涼拖鞋 平底鞋 靴子 防水鞋/雨靴 工作鞋 外套 保暖背心 襯衫 POLO衫 背心/T恤 男性休閒服 褲子 機能內衣褲 登山鞋 野跑鞋 水陸兩棲鞋 雪靴/雪鞋 童裝 外套 保暖背心 襯衫 POLO衫 背心/T恤 女性休閒服 褲子 機能內衣褲 登山鞋 野跑鞋 水陸兩棲鞋 雪靴/雪鞋 童裝 連身泳裝 兩件式泳裝 三件以上泳裝 競賽泳裝 水母衣 罩衫/外搭 泳褲/海灘褲/衝浪褲 兒童泳裝 泳帽 泳鏡 泳圈 衝浪配件/潛水用具 帳篷 睡袋 睡墊/充氣床 露營裝備配件 折疊/野餐桌 折疊/野餐椅 爐具/炊具 戶外餐廚 野餐籃/野餐墊 手電筒/露營燈 登山杖 瑞士刀/折疊刀 其他登山露營用具 跑步機/健走機 飛輪車 健身車/手足車 橢圓機/划船機 瑜珈墊/鋪巾 瑜珈球 瑜珈柱/按摩滾輪 瑜伽磚/伸展帶 跳繩 跳床 跳舞機 其他健身器材 啞鈴/摃鈴/槓片 壺鈴/藥球/砂袋 健腹機/縮小腹 健腹輪/健美輪 健臂/握力器 背肌/室內單槓 胸肌/伏地挺身器 仰板/重訓椅 戰繩/懸吊彈力拉繩 多功能訓練用品 拳擊用品/重訓週邊 電動滑板車 籃球 排球 足球 棒球 桌球 羽球 網球 高爾夫球 壁球 呼拉圈 蛇板/滑板 其他運動用品 帽子 襪子 運動護具 運動毛巾/冰涼巾 運動眼鏡 手套 袖套/腿套 運動穿戴配件 能量補給品 機車125cc以下(含) 機車126-150cc 機車151-250cc 重型機車 電動機車 電動滑板車/平衡車 電動代步車/電動輪椅 機車行車記錄器 全罩式安全帽 3/4罩安全帽 可樂帽 半罩式/兒童安全帽 藍芽通訊安全帽/密錄器 機車改裝/機車行李箱 雨衣/雨鞋/雨鞋套 口罩/手套/人身部品 機車用品/配件 無卡分期 衛星導航 汽車行車記錄器 汽車前後鏡記錄器 測速功能行車記錄器 行車記錄器配件 測速器 打氣機 胎壓偵測器 抬頭顯示器 汽車防盜 電瓶/充電器 車充/轉換器 空氣清淨機/濾網 電動工具/手動工具 手機車架 踏墊/椅套 椅墊/腰墊/頭枕 遮陽板/靜電貼 影音週邊 對講機 機油/添加劑 收納用品/掛鉤 汽車防塵罩 儀表板避光墊 行動冰箱/保冷袋 車內排熱用品 其他用品 M-Benz BMW 輪胎-14吋以下 輪胎-15吋 輪胎-16吋 輪胎-17吋 輪胎-18吋 輪胎-19吋以上 車燈 其他改裝耗材 雨刷 車頂架/車頂箱 音響主機/電視盒 盲點偵測 避震器 電動車尾門 無卡分期 潤滑油/零件清潔劑 油精/添加劑/水箱精 變速箱油/煞車油 洗車精/清潔劑/保養劑 美容蠟/鍍膜 清潔劑 清潔保養工具 車用吸塵器 車內芳香劑 打蠟機 高壓清洗機 補漆工具 皮革保養劑 自行車 公路車 折疊車 兒童車 淑女車 登山車 電動自行車 滑板車 無卡分期 自行車車衣 自行車人身用品 自行車零件 自行車燈 自行車配件 自行車包 自行車工具/清潔保養 吃到飽 套餐 下午茶 餐點抵用券 冰淇淋提貨券 大眾湯 湯屋/湯房 泡湯住宿 泡湯享美食 SPA按摩 臉部/身體保養 去角質/岩盤浴 主題樂園 農場/休閒體驗 展覽/美術館 電影券 飯店 民宿/渡假村 Motel 文旅/商務旅館 iPhone iPhone XR HUAWEI華為 Samsung ASUS Nokia SONY MOTO HTC LG OPPO AirPods SONY Philips 羅技 鐵三角 Beats iPhone AFAMIC艾法 森海塞爾 SENNHEISER  小米 GARMIN MiVia Apple Watch Acer宏碁 JSmax 華為Band Fitbit Nikon Canon EOS RP SONY A7III SONY DSC Panasonic S1 batis OLYMPUS PEN-F Panasonic LUMIX RICOH OLYMPUS sony FUJIFILM拍立得 Polaroid拍立得  GoPro SJCAM SONY攝影機 Snoppa DJI Osmo Pocket brinno縮時相機 DJI Mavic空拍機 DJI Spark空拍機 監視器攝影機 犀牛盾 防摔邊框手機殼 防摔手機殼 高質感保護殼 透視皮套 磁皮套 鋼化玻璃膜 滿版玻璃膜 護眼保貼 Kamera自拍棒 ANTIAN自拍棒 SSKY自拍棒 手機平板通用立式支架 鋁合金支架 TCSTAR鋁合金 Apple傳輸線 SONY傳輸線 USB插頭 雙用充電傳輸線 無線充電座  萬用乾燥劑 拭鏡紙 專業閃光燈 GIOTTOS清潔組合 相機防水套 相機背帶 相機包 鋁合金三腳架 金剛爪腳架 液壓雲台  勁量行動電源 ASUS行動電源 PHILIPS充電電池 aibo行動電源 Panasonic eneloop PROBOX行動電源 造型行動電源  羅技網路攝影機 Yoosee Pawbo寵物互動攝影機 訊舟空氣品質感測器 家庭防盜 SecuFirst攝影機 TP-Link雲智慧插座 KABA三合一密碼 Yale 耶魯 AI音箱 D-Link Tile防丟小幫手 Kidde煙霧警報器 Panasonic火災警報器 防災專家 分配器 KINGNET監視器 全視線 SAMSUNG PHILIPS Haier SHARP T-Box TECO LG SONY BenQ Dennys播放器 HERAN SONY播放器 Panasonic播放器 Yamaha播放器  K歌之王 UE Wonderboom SONY藍牙喇叭 羅技喇叭 kolin麥克風 TOSHIBA音響 木質喇叭 小米喇叭 華碩智慧音箱 PHILIPS家庭劇院 WiFi喇叭 鐵三角黑膠  EPSON投影機 Optoma投影機 BenQ投影機 acer投影機 ViewSonic投影機 Panasonic投影機 電動幕  TATUNG大同 雀巢咖啡機 PRINCESS氣炸鍋 Nespresso咖啡機 kolin果汁機 鍋寶 Panasonic微波爐 SAMPO微波爐 象印電熱水瓶 象印電子鍋 三洋烤箱 國際牌烤箱 recolte日本麗克特 櫻花牌 國際牌麵包機 Sodastream氣泡機 國際牌電話 勝家縫紉機 飛利浦熨斗 歌林捕蚊器 飛利浦檯燈 CODYSON超音波清洗機 莊頭北 櫻花牌 飛利浦捕蚊燈 安寶捕蚊拍 日本iris 小米機器人 TECO東元 dyson V8 三洋 TiDdi Dyson V6 國際牌 小綠 iRobot LG 正負零±0 360智慧掃地機器人 HITACHI Coway SHARP除濕機 3M除濕機 國際牌除濕機 TECO東元 Dyson Air Multiplier LG樂金 Frigidaire富及第 GW水玻璃 HITACHI日立 除濕機6L 除濕機12L 日本烘鞋烘鞋機 MITSUBISHI三菱烘被機 SAMPO烘被機 SAMPO震動牙刷 VS沙宣 TESCOM吹風機 Panasonic吹風機 國際牌奈米水離子 德國百靈 歐樂B 歌林刮鬍刀 飛利浦除毛刀 Waterpulse沖牙機 飛利浦潔膚儀 科萊麗洗臉機 Panasonic美容導入儀 德國百靈美體刀 Philips電鬍刀 tokuyo JOHNSON喬山 健身大師 TAKASIMA高島 Concern康生 OSIM 輝葉 OSIM眼部按摩器  三洋 日立 HERAN禾聯 TECO東元 國際牌 SAMPO聲寶 DAIKIN大金 分離式冷氣 窗型冷氣 變頻冷氣 14吋電風扇 16吋電風扇 Haier海爾電風扇 TECO東元風扇 Panasonic風扇 富士電循環扇 VORNADO循環扇 尚朋堂循環扇 SAMPO電暖器 陶瓷電暖器 正負零±0電暖器 嘉儀電暖器 煤油暖爐 北方葉片 SAMPO聲寶 LG樂金 Panasonic國際牌 HITACHI日立 HERAN禾聯 Whirlpool惠而浦 KOLIN歌林 SANLUX台灣三洋 MITSUBISHI三菱 大河TAIGA Svago享樂酒櫃 單門冰箱 雙門冰箱 變頻冰箱 3門冰箱 6門冰箱 LG樂金 TOSHIBA東芝 Panasonic國際牌 台灣三洋 滾筒洗衣機 洗脫烘 SAMSUNG三星 SAMPO聲寶 Whirlpool惠而浦 TECO東元 直立式洗衣機 Durex杜蕾斯 TENGA潤滑 TENGA飛機杯 GENMU潤滑 GENMU飛機杯 相模保險套 情趣按摩棒 遙控跳蛋  Apple MacBook Apple iMAC ASUS HP筆電 MSI微星電競筆電 AVITA筆電 華為筆電 Lenovo VAIO筆電 THULE筆電包 Cartinoe筆電包 INCASE筆電包 ASUS桌上型電腦 Acer桌上型電腦 MSI迷你主機 MSI微星液晶電腦 ASUS電腦螢幕 Acer電腦螢幕 SAMSUNG電競螢幕 曲面螢幕 LG顯示器 PHILIPS顯示器 ViewSonic螢幕 BenQ螢幕 MSI微星螢幕 DELL顯示器 HP顯示器  iPad 32GB iPad 128GB iPad Pro Samsung平板 HUAWEI平板 ASUS平板 Lenovo平板 iPad保護皮套 PS4 任天堂Nintendo Xbox Switch 遊戲手把 ps4遊戲片 Switch遊戲 Intel 創見JetRam 華碩PRIME MSI微星顯示卡 AMD中央處理器 羅技滑鼠 羅技鍵盤 羅技xLine Friends aibo鍵盤 Microsoft滑鼠/鍵盤 Razer滑鼠 護腕滑鼠墊 木鍵盤 發光鍵盤  SanDisk硬碟 SONY硬碟 Samsung硬碟 Seagate硬碟 ADATA威剛硬碟 Synology WD Patriot記憶卡 創見記憶卡 SanDisk記憶卡 EPSON印表機 Brother印表機 Double A HP多功能事務機 Takara印表機 KODAK柯達相印機 PAPERANG口袋 FUJIFILM印相機 HP印表機 HERMES BURBERRY MICHAEL KORS CHLOE TOD’S TORY BURCH BOTTEGA VENETA LONGCHAMP YSL GIORGIO FEDON ALBA 田馥甄廣告款 Swatch 林依晨廣告款 Tiffany&Co. PAUL HEWITT Pandora 純銀耳環 agnes b. Yume HERMES apm MONACO SWAROVSKI Royal Damon 點睛品 今生金飾 周大福 A-LUXE亞立詩 大東山珠寶 煌隆 Justin金緻品 囍金 梨花HaNA 十字架項鍊 Pura Vida JINCHEN 純銀戒指 尾戒  MOMA 麥雪爾 earth music TOP GIRL bear two CACO H:CONNECT SO NICE 獨身貴族 gozo betty’s貝蒂思 KeyWear奇威名品 OUWEY歐薇  TATA Roush AIR SPACE LIYO理優 東京著衣 DIFF IREAL 曾莞婷自創品牌 OB嚴選 101原創 la belleza Hera赫拉 roann super color 初色 Levis EDWIN GIORDANO Roots BRAPPERS ibs Victoria bossini BIG TRAIN 女牛仔短褲 顯瘦牛仔 牛仔襯衫 牛仔外套 女直筒褲 男直筒褲 DICKIES ROUSH Hush Puppies OB大尺碼男裝 CACO男裝 金‧安德森 男休閒褲 男西裝褲 ZIP日本男裝 男背心 男涼感衣 眼圈熊 Ballet Dolly MOCO SISTERS  太陽眼鏡 漁夫帽 束髮圈 抗UV 多邊形眼鏡 復古款眼鏡 隱形髮片 編織草帽 皮帶 領帶 曼黛瑪璉 sloggi EASY SHOP 思薇爾 瑪登瑪朵 黛安芬 華歌爾 LADY 可蘭霓 olivia La Queen La Felino aimerfeel 席艾妮SHIANEY  Sun Flower三花 BeautyFocus sloggi HENIS 2UNDR BVD Private Structure PLAYBOY CR7 Hang Ten TIKU 羅納度內著 金安德森 CABACI FOSSIL 2R Grace gift PEPPER`S ELLE Kipling Kiiwi O! satana 帆布包 托特包 後背包 側背包 保齡球包 波士頓包 長夾 中夾 短夾 零錢包 PORTER PLAYBOY Arnold Palmer Valentino Rudy 公事包 腰包 長夾 短夾 零錢包 Rimowa 法國奧莉薇閣 Deseno ALAIN DELON ARTBOX MR.BOX AoXuan Bogazy 登機箱 20吋行李箱 24吋行李箱 26吋行李箱 28吋行李箱 30吋行李箱 MAGY AS D+AF Grace gift 達芙妮DAPHNE Fair Lady ALDO DIANA KOKKO A.S.O iki2 BESO Ann’S TAS ECCO HERLS DN viina 貝里尼 melissa 平底鞋 涼鞋 繫帶涼鞋 羅馬涼鞋 流蘇涼鞋 高跟鞋 娃娃鞋 短靴 長靴 流蘇靴 ALLEGREZZA A.S.O WALKING ZONE GEORGE CUMAR ECCO 皮鞋 平底鞋 休閒鞋 涼鞋 真皮鞋 短靴  Y.A.S AIRPLUS 足的美形 Timberland 擴鞋器 真皮後跟貼 糊塗鞋匠 3m 反光鞋帶  LOREAL MAYBELLINE sebamed施巴 1028 KATE凱婷 I M MEME 露得清 Za LaboLabo 我的美麗日記 media媚點 heme KISS ME奇士美 我的心機 上山採藥 戀愛魔鏡 專科 碧歐斯 徐若瑄代言 開架唇膏 開架面膜 DR.WU 理膚寶水 寵愛之名 Neogence霓淨思 VICHY薇姿 Dr.Douxi朵璽 DF美肌醫生 Dr.Hsieh Swissvita薇佳 Avene雅漾 AHC 寶拉珍選 醫美級面膜 青黛萬用膏 水楊酸 NARUKO牛爾  ESTEE LAUDER 雅詩蘭黛 benefit GLAMGLOW IOPE艾諾碧 Elizabeth Arden 伊麗莎白雅頓 KOSE 雪肌精 LANEIGE蘭芝 PONY EFFECT LAB OPI philosophy肌膚哲理 BEVY C. belif JILL STUART 歐舒丹 FORTE 專櫃美白 專櫃保濕 專櫃精華 BIOTHERM碧兒泉 LANCOME蘭蔻 ORIGINS品木宣言 KIEHLS契爾氏 SK-II 專櫃乳霜 M.A.C BOBBI BROWN 女性香水 男性香水 中性香水 運動香水 精油 Jo Malone CK Chloe MONTBLANC 萬寶龍 COACH ANNA SUI CHANEL女香 CHANEL男香 Christian Dior L’OCCITANE Versace凡賽斯 BVLGARI寶格麗 室內擴香 cocodor 瑰珀翠 護手霜 香氛蠟燭 diptyque H&W 五月花 倍潔雅 舒潔 春風 百吉牌 極度純柔 蒲公英 唯潔雅 優活 得意 柔情 可麗舒 餐巾紙  好自在 靠得住 蘇菲 良爽 舒適達人 康乃馨 棉條 薄護墊 加長型 熟睡型 液體衛生棉 安心夜用 瞬吸護墊 口袋棉 來復易 添寧 幫寶適 滿意寶寶 日本大王 麗貝樂 拭拭樂 立得清 奈森克林 優生 小淘氣 好奇 獅子寶寶 噓噓樂 尿布S號 尿布M號 尿布L號 尿布XL號 尿布XXL號 日本moony 包大人 安親  橘子工坊 獅王 Persil 白鴿 妙管家 普洛斯 依必朗 毛寶 南僑 御衣坊 一匙靈 dalli 白帥帥 全植媽媽 Relove 洗衣粉 洗衣精補充包 曾莞婷推薦 洗衣片 洗衣球 Ariel洗衣膠囊 奈米洗衣精 殺菌洗衣精 衣物香氛袋 克潮靈 好神拖 驅塵氏 Farcent 泡舒 易拖寶 Aimedia艾美迪雅 妙潔 OP 無塵氏 美則 亮碟 natures 魔術靈 一點絕 除蟑 防蚊 馬桶清潔劑 清潔袋 馬桶清潔錠 去味大師 除霉 浴室去霉 天然洗潔精 妙管家  566 潘婷 飛柔 花香5 施華蔻 AVEDA 摩洛哥優油 歐萊德 Diplona sastty 沛特斯 AVALON 髮旺旺 箭牌馬 瑪卡奇蹟油 歐露兒 舒妃 REUZEL AROMASE艾瑪絲 莎莎推薦 無矽靈 沙宣 FINO高效滲透護髮膜 髮膜 胺基酸 Amino Mason 飛柔x幾米 染後護髮 護髮 澎澎 舒摩兒 莎啦莎啦 美琪 ONE 滴露 徐若瑄推薦 婦潔 必達淨 TS6 彎彎 綠的 嬌生 專科 依必朗 Rexona蕊娜 制汗 艾惟諾Aveeno SUPER MILD 曼秀雷敦 蜜妮 Biore 渡邊直美代言 周湯豪代言 麗仕 UNO 除毛貼片 德恩奈 刷樂 ora2 舒酸定 獅王 百齡 韓國2080 美適 gum Foramen 李施德霖 3m 歐樂B crest 亮白牙膏 3M牙線棒 牙齒貼片 FastWhite Pocky 東鳩 明治 味覺糖 巧克力 小雞麵 軟糖 夾心餅 仙貝 洋芋片 不二家 抹茶 草莓 義美 萬歲牌 卡迪那 元本山 旺旺 喜年來 星球工坊 卡滋 蝦餅 爆米花 海苔 泡芙 蛋捲  GODIVA 金莎 Lindt 瑞士蓮 美國百年經典巧克力品牌 有機巧克力 77 黑巧克力  每日優果 紅布朗 萬歲牌 日華好物 統一生機 元氣家 無花果乾 盛香珍 橄欖 小魚杏仁 夏威夷果 綜合堅果 甘草瓜子 芒果乾 哈根達斯 亞尼克 金格 奧瑪烘焙 聖保羅 連珍 法藍四季 拿破崙 豆穌朋 艾波索 三協成 鏡面蛋糕 乳酪蛋糕 依蕾特 諾貝爾 奶凍卷 泡芙 馬卡龍 情人果冰 蜂蜜蛋糕 太陽餅 芋頭口味 鳳梨酥 悅氏 泰山 生活 伯朗 福樂 鮮一杯 雀巢 貝納頌 UCC 台鹽 Perrier沛綠雅 S.Pellegrino聖沛黎洛 舒跑 VOSS 每朝健康 御茶園 可口可樂 原萃 亞莉佳 氣泡水 無糖咖啡 運動飲料 濾掛式咖啡 麥香 紅茶 無糖綠 奶茶 豆奶 桂格 德國童話 午茶夫人 蜜蜂工坊 3點1刻 名廚美饌 大燕麥片 烏龍茶 立頓 杏仁茶 阿華田 雀巢 美祿 蜜蜂 黑芝麻 賈以食日 賈靜雯推薦 老媽拌麵 A-Lin難忘的滋味 曾拌麵 中興米 豆油伯 日清 泰山 得意的一天 農心 小夫妻 小廚師 柴米夫妻 kiki 統一麵 杯麵 辛拉麵 日式醬油 薄鹽醬油 橄欖油 阿Q桶麵 福忠字號 手工辣椒 綠巨人 呷七碗 韓味不二 餃子樂 極鮮配 新東陽 檸檬汁 調理包 南門市場 新竹黑貓包 牛肉麵 肉粽 湯品推薦 雞湯 愛上新鮮 厚切牛排 芒果 櫻桃 奇異果 海陸管家 去骨雞腿 桂格 白蘭氏 亞培 GNC健安喜 Sundown日落恩賜 正官庄 娘家 德國好立善 葡萄王 善存 雞精 SUNTORY三得利 天地合補 滴雞精 享食尚滴雞精  紅薑黃 船井 UDR Trimi8胺基纖 fitizen 日本味王 明治 膠原蛋白粉 DV笛絲薇夢 SUPERCUT塑魔纖 喜樂纖 賈靜雯推薦 乳清蛋白 高蛋白 膠原蛋白飲 紅豆水  歐姆龍 3M 中衛 杜蕾斯 必翔銀髮 MOTEX口罩 TANITA 嬌生 隱形眼鏡清潔 體重體脂計 日本PITTA口罩 易利氣 okamoto岡本  桂格 亞培 s26 成長奶粉 有機 明治奶粉 1-3歲奶粉 麥米棒 優生 Baan貝恩 韓國MOTHER chicco 貝臣 麗嬰房 小獅王辛巴 德國品牌NUK nac nac 美國nookums 美國Bebe Au Lait 奇哥 韓國MOTHER 防水尿布墊 嬰兒食物剪 學習水杯 豆豆安撫 sebamed施巴 BYPERA Mustela慕之恬廊 Baan貝恩 迪士尼 日本製Madonna Fees法緻 馬油 育成椅 餐椅 雙向手推車 汽座 法國FERRARI chicco 奇哥 YoDa 美國Summer  費雪 英國Dreamgenii mammyshop 蝶型包巾 遊戲床 奇哥 chicco Infantino Mloong曼龍 LOG樂格 奇妮 YABIN媽媽包 mamaway媽媽餵 Mustela慕之恬廊 媽咪孕婦裝 托腹帶 哺乳內衣 產褥墊 Gennies 媽咪莉娜 妊娠霜 樂高 tomica Mattel美泰兒 培樂多 三麗鷗 繪兒樂 樂雅 RadioFlyer 寶工 B.toys 費雪 小牛津 Muledy木樂地 台灣製造 WHY AND 1/2 baby童衣 小衣衫童裝 Carter’s Little moni FILA KIDS Azio Kids 游泳尿布褲 包屁衣 iki2童鞋 ASICS LOTTO Swan天鵝童鞋 怡寶 melissa鞋 Tiger Family 天使童鞋 機能童鞋 Crocs 文學小說 商業理財 醫療保健 塑身/飲食 心靈/人文/科普 旅遊/生活 親子教養 童書 漫畫/輕小說/圖文 語言學習 攝影/藝術/設計 公職考用書 蔡康永 股票 多益 日本旅遊 CASIO 3M KOKUYO Moleskine CARAN dACHE卡達 Faber Castell德國輝柏 PARKER TOMBOW蜻蜓 WATERMAN ARTGYLE FunZakka 客製刻字 電影DVD Baby認知聲音書 汪汪隊立大功 中英學習 粉紅豬小妹 YAMAHA CASIO卡西歐 Roland樂蘭 JAZZY KORG KAWAI河合 aNueNue TAYLOR 法蘭山德 rode LAVA FENDER 烏克麗麗 Hill希爾思 OPTIMA優格 ROYAL法國皇家 Orijen渴望 超躍 Blackwood柏萊富 紐西蘭k9 巔峰 耐吉斯 go Now鮮肉無穀 FISH4DOGS海洋之星 valens SEEDS聖萊西 Monge養生 benevo 綠野鮮食 LittleFriends soopa 活力滋 消臭大師 美國EverClean 藍鑽 寵物智能飲水機 寵物餵食器 貓跳台 寵物驅蟲噴劑 松木木屑砂 除毛梳 寵物包 空心豆腐貓砂 潔牙 尿布高吸水 貓鍋 寵物涼蓆 牽繩 鳥籠 潔耳液 電動剪毛器 洗毛精 有機洗毛精 LE CREUSET法國鑄鐵鍋 TEFAL法國特福 CORELLE康寧 WMF德國 BUFFALO牛頭牌 固鋼 PERFECT理想 鍋寶 WOKY沃廚 NEOFLAM韓國 THERMOS膳魔師 樂扣樂扣 SADOMAIN仙德曼 BEKA貝卡 頂尖廚師Top Chef 康寧 LE CREUSET Just Home SADOMAIN仙德曼 GREEGREEN Royal Duke EXCELSA BUFFALO牛頭牌 LOCK LOCK樂扣樂扣 MoliFun魔力坊 GREEN BELL THERMOS 膳魔師 Tiger虎牌 ZOJIRUSHI象印 THERMOCafe凱菲 TEFAL法國特福 美國HYDY corkcicle酷仕客 樂扣樂扣 GREEN BELL綠貝 ALFI愛麗飛  樂扣樂扣PP保鮮盒 PP保鮮盒 GLASSLOCK格拉氏洛克 TEFAL法國特福 SNAPWARE康寧密扣 韓國Metal lock 保鮮袋 保鮮蓋 3M保鮮袋 USii鎖鮮袋 封口夾 密封蓋 BRITA 3M BWT德國倍世 愛惠浦 怡康 隨身濾水瓶  Tiamo HARIO DRIVER SADOMAIN仙德曼 KITCHEN CRAFT英國 EXCELSA義大利 摩卡壺 手沖壺 冰滴咖啡壺 玻璃泡茶壺 濾壓壺 多功能食物調理器 保鮮膜 調味盒 卡式爐 調味油噴霧 製冰盒 圍裙 防割手套 餐罩 隔熱墊 瀝水盆 料理秤 烘焙料理紙 烤箱溫度計 布朗尼烤盤 紅外線溫度計 玻璃量杯 打蛋器 德國雙人 KYOCERA VICTORINOX瑞士維氏 義大利CUOCO 水果刀 抗菌砧板 隔熱墊 不鏽鋼剪刀  臻觀璽世 財神小舖 開運陶源 A1寶石 琉園 紫水晶 聚寶 佛珠手鍊 鹽燈 八卦鏡 乾坤八卦 Bernice 日本直人木業 Home Feeling H＆D TZUMii SATO AS 微量元素 活動櫃 雙門衣櫥 六格鞋櫃 YKSHOUSE 棉花田 idea L型布沙發 懶骨頭 沙發床 凳椅 三人沙發 雙人沙發 皮革沙發 牛皮沙發 收納架 防滑衣架 螢幕置物架 延長線 伸縮曬衣架 桌上收納盒 艾維斯 ally 折疊床墊 house door 米夢家居 德泰 絲薇諾 透氣床墊 東妮寢飾 夢特嬌 YVONNE以旺傢飾 3M Ania Casa Saint Rose Cozy inn 義大利La Belle 戀家小舖 OLIVIA 日本濱川佐櫻 La Lune La Veda buho 夢工場 Washcan瓦士肯 夢之語寢具生活館 BUNNY LIFE BEDDING DESMOND岱思夢 BBL HOYA CASA 3M TENDAYS 美國寢之堡 透氣專家 羽絨枕 室內拖鞋 腰衴 防蚊門簾 穿衣鏡 巧拼地墊 橡木面紙盒 PHILIPS飛利浦 威剛 東芝 Panasonic 喜萬年 OSRAM歐司朗 億光 折疊手推車 小夜燈 HCG BOSS ITAI 暖風機 換氣扇 過濾蓮蓬頭 宇宙人 格藍傢飾 雨傘王 抗UV 短筒雨鞋 ZIPPO  adidas官方旗艦店 Nike New Balance PUMA FILA CONVERSE ASICS TIGER PONY K-SWISS SKECHERS AIRWALK le coq sportif KEEN LOTTO 慢跑鞋 籃球鞋 訓練鞋 adidas官方旗艦店 New Balance PUMA Nike FILA CONVERSE ASICS PONY SKECHERS K-SWISS LOTTO Reebok 涼拖鞋 慢跑鞋 adidas NIKE le coq sportif MLB PUMA SPEEDO FILA K-SWISS 美津濃 New Balance 三角泳褲 POLO衫 adidas Nike MLB le coq sportif Puma FILA Aquanaut奧可那泳裝 夏之戀 K-SWISS ROXY New Balance 勃肯 CROCS ecco fitflop HANNFORT Hush Puppies keds native palladium PLAYBOY SPERRY TEVA Timberland TOMS ZAXY The North Face Hilltop 山頂鳥 Columbia 哥倫比亞 Arcteryx 始祖鳥 ATUNAS 歐都納 MERRELL The North Face Hilltop 山頂鳥 ROXY/QUIKSILVER 遊遍天下 MAMMUT長毛象 Merrell Odlo ATUNAS 歐都納 Columbia哥倫比亞  turbo tent coleman Snow Peak Naturehike LIFECODE intex SELPA Green-b STANLEY 輝葉 JHT 好吉康 強生 喬山 BH 健身大師 sole 瑜珈墊 瑜珈球 adidas NIKE SanSports山司伯特 AD-ROCKET BLADEZ fit so 槓鈴啞鈴兩用 輕巧健身機 SPALDING 斯伯丁 籃球 MIZUNO 網球球拍 高爾夫球 護膝腿套 學習游泳圈 adidas Cap帽 度數泳鏡 後背包 能量補給品 KYMCO光陽 YAMAHA山葉 SYM三陽 SUZUKI台鈴 e路通 SHOPRIDER Mio  Mio GARMIN 米其林 馬牌汽車輪胎 固特異 PAPAGO 全視線 領先者 速霸 moin 愛國者  日本SOFT 雨刷玻璃精 油膜雨刷精 蠟筆補漆筆 汽車蠟 防霧清潔劑 GIANT捷安特 MERIDA美利達 FUSIN StepDragon BIKEONE BIKEDNA Strida HUMMER 警示燈 單車手機架 自行車安全帽 陶板屋 大直典華旗艦 西堤 藝奇ikki 台中林酒店 漢來海港餐廳 台北寒舍艾美酒店 原燒 台北晶華酒店柏麗廳 聚火鍋 夏慕尼 品田牧場 古典玫瑰園 小蒙牛 野宴 圓桌鐵板燒 (台北)陽明山天籟渡假酒店 (北投)水都溫泉會館 (礁溪)日月光國際大飯店 (北投)春天酒店 (烏來)馥蘭朵烏來渡假酒店 （台北）加賀屋 愛爾麗 皇家東方泰SPA會館 VIVISPA 泰式按摩 腳底按摩 岩盤浴 臉部按摩 威秀影城電影票 秀泰影城電影票 (新竹北埔)綠世界生態農場 高雄義大 台中麗寶樂園 花蓮遠雄海洋公園 新竹小叮噹科學主題樂園 騎士堡 (苗栗)飛牛牧場 (墾丁)阿信巧克力農場 (花蓮)新光兆豐休閒農場 劍湖山世界主題樂園 六福村主題遊樂園 (台北)洛碁松江大飯店 (台南)南科商務旅館 (萬里)白宮行館沙灘渡假村 (台南)桂田酒店 (台中)水舞行館 (台中梨山)梨山賓館 (高雄)WO Hotel (南投清境)香格里拉音樂城堡 (花蓮)非凡假期大飯店 (花蓮)統茂渡假莊園'"
      ]
     },
     "execution_count": 3,
     "metadata": {},
     "output_type": "execute_result"
    }
   ],
   "source": [
    "#看是不是讀到想要的資料\n",
    "doc('.level3Title').text()"
   ]
  },
  {
   "cell_type": "code",
   "execution_count": 20,
   "metadata": {},
   "outputs": [
    {
     "name": "stdout",
     "output_type": "stream",
     "text": [
      "https://tw.buy.yahoo.com/category/4385945\n",
      "None\n",
      "https://tw.buy.yahoo.com/category/4385944\n",
      "None\n",
      "https://tw.buy.yahoo.com/category/31369132\n",
      "None\n",
      "https://tw.buy.yahoo.com/category/4387250\n"
     ]
    },
    {
     "ename": "WebDriverException",
     "evalue": "Message: chrome not reachable\n  (Session info: chrome=79.0.3945.88)\n",
     "output_type": "error",
     "traceback": [
      "\u001b[1;31m---------------------------------------------------------------------------\u001b[0m",
      "\u001b[1;31mWebDriverException\u001b[0m                        Traceback (most recent call last)",
      "\u001b[1;32m<ipython-input-20-eaff09df16a1>\u001b[0m in \u001b[0;36m<module>\u001b[1;34m\u001b[0m\n\u001b[0;32m     16\u001b[0m         \u001b[0mlastHeight\u001b[0m \u001b[1;33m=\u001b[0m \u001b[1;33m-\u001b[0m\u001b[1;36m1\u001b[0m\u001b[1;33m\u001b[0m\u001b[1;33m\u001b[0m\u001b[0m\n\u001b[0;32m     17\u001b[0m         \u001b[1;32mfor\u001b[0m \u001b[0mi\u001b[0m \u001b[1;32min\u001b[0m \u001b[0mrange\u001b[0m\u001b[1;33m(\u001b[0m\u001b[1;36m10\u001b[0m\u001b[1;33m)\u001b[0m\u001b[1;33m:\u001b[0m\u001b[1;33m\u001b[0m\u001b[1;33m\u001b[0m\u001b[0m\n\u001b[1;32m---> 18\u001b[1;33m             \u001b[0mheight\u001b[0m \u001b[1;33m=\u001b[0m \u001b[0mwrapper\u001b[0m\u001b[1;33m.\u001b[0m\u001b[0msize\u001b[0m\u001b[1;33m[\u001b[0m\u001b[1;34m'height'\u001b[0m\u001b[1;33m]\u001b[0m\u001b[1;33m\u001b[0m\u001b[1;33m\u001b[0m\u001b[0m\n\u001b[0m\u001b[0;32m     19\u001b[0m             \u001b[1;32mif\u001b[0m \u001b[0mlastHeight\u001b[0m \u001b[1;33m==\u001b[0m \u001b[0mheight\u001b[0m\u001b[1;33m:\u001b[0m\u001b[1;33m\u001b[0m\u001b[1;33m\u001b[0m\u001b[0m\n\u001b[0;32m     20\u001b[0m                 \u001b[1;32mcontinue\u001b[0m\u001b[1;33m\u001b[0m\u001b[1;33m\u001b[0m\u001b[0m\n",
      "\u001b[1;32m~\\Anaconda3\\lib\\site-packages\\selenium\\webdriver\\remote\\webelement.py\u001b[0m in \u001b[0;36msize\u001b[1;34m(self)\u001b[0m\n\u001b[0;32m    514\u001b[0m         \u001b[0msize\u001b[0m \u001b[1;33m=\u001b[0m \u001b[1;33m{\u001b[0m\u001b[1;33m}\u001b[0m\u001b[1;33m\u001b[0m\u001b[1;33m\u001b[0m\u001b[0m\n\u001b[0;32m    515\u001b[0m         \u001b[1;32mif\u001b[0m \u001b[0mself\u001b[0m\u001b[1;33m.\u001b[0m\u001b[0m_w3c\u001b[0m\u001b[1;33m:\u001b[0m\u001b[1;33m\u001b[0m\u001b[1;33m\u001b[0m\u001b[0m\n\u001b[1;32m--> 516\u001b[1;33m             \u001b[0msize\u001b[0m \u001b[1;33m=\u001b[0m \u001b[0mself\u001b[0m\u001b[1;33m.\u001b[0m\u001b[0m_execute\u001b[0m\u001b[1;33m(\u001b[0m\u001b[0mCommand\u001b[0m\u001b[1;33m.\u001b[0m\u001b[0mGET_ELEMENT_RECT\u001b[0m\u001b[1;33m)\u001b[0m\u001b[1;33m[\u001b[0m\u001b[1;34m'value'\u001b[0m\u001b[1;33m]\u001b[0m\u001b[1;33m\u001b[0m\u001b[1;33m\u001b[0m\u001b[0m\n\u001b[0m\u001b[0;32m    517\u001b[0m         \u001b[1;32melse\u001b[0m\u001b[1;33m:\u001b[0m\u001b[1;33m\u001b[0m\u001b[1;33m\u001b[0m\u001b[0m\n\u001b[0;32m    518\u001b[0m             \u001b[0msize\u001b[0m \u001b[1;33m=\u001b[0m \u001b[0mself\u001b[0m\u001b[1;33m.\u001b[0m\u001b[0m_execute\u001b[0m\u001b[1;33m(\u001b[0m\u001b[0mCommand\u001b[0m\u001b[1;33m.\u001b[0m\u001b[0mGET_ELEMENT_SIZE\u001b[0m\u001b[1;33m)\u001b[0m\u001b[1;33m[\u001b[0m\u001b[1;34m'value'\u001b[0m\u001b[1;33m]\u001b[0m\u001b[1;33m\u001b[0m\u001b[1;33m\u001b[0m\u001b[0m\n",
      "\u001b[1;32m~\\Anaconda3\\lib\\site-packages\\selenium\\webdriver\\remote\\webelement.py\u001b[0m in \u001b[0;36m_execute\u001b[1;34m(self, command, params)\u001b[0m\n\u001b[0;32m    631\u001b[0m             \u001b[0mparams\u001b[0m \u001b[1;33m=\u001b[0m \u001b[1;33m{\u001b[0m\u001b[1;33m}\u001b[0m\u001b[1;33m\u001b[0m\u001b[1;33m\u001b[0m\u001b[0m\n\u001b[0;32m    632\u001b[0m         \u001b[0mparams\u001b[0m\u001b[1;33m[\u001b[0m\u001b[1;34m'id'\u001b[0m\u001b[1;33m]\u001b[0m \u001b[1;33m=\u001b[0m \u001b[0mself\u001b[0m\u001b[1;33m.\u001b[0m\u001b[0m_id\u001b[0m\u001b[1;33m\u001b[0m\u001b[1;33m\u001b[0m\u001b[0m\n\u001b[1;32m--> 633\u001b[1;33m         \u001b[1;32mreturn\u001b[0m \u001b[0mself\u001b[0m\u001b[1;33m.\u001b[0m\u001b[0m_parent\u001b[0m\u001b[1;33m.\u001b[0m\u001b[0mexecute\u001b[0m\u001b[1;33m(\u001b[0m\u001b[0mcommand\u001b[0m\u001b[1;33m,\u001b[0m \u001b[0mparams\u001b[0m\u001b[1;33m)\u001b[0m\u001b[1;33m\u001b[0m\u001b[1;33m\u001b[0m\u001b[0m\n\u001b[0m\u001b[0;32m    634\u001b[0m \u001b[1;33m\u001b[0m\u001b[0m\n\u001b[0;32m    635\u001b[0m     \u001b[1;32mdef\u001b[0m \u001b[0mfind_element\u001b[0m\u001b[1;33m(\u001b[0m\u001b[0mself\u001b[0m\u001b[1;33m,\u001b[0m \u001b[0mby\u001b[0m\u001b[1;33m=\u001b[0m\u001b[0mBy\u001b[0m\u001b[1;33m.\u001b[0m\u001b[0mID\u001b[0m\u001b[1;33m,\u001b[0m \u001b[0mvalue\u001b[0m\u001b[1;33m=\u001b[0m\u001b[1;32mNone\u001b[0m\u001b[1;33m)\u001b[0m\u001b[1;33m:\u001b[0m\u001b[1;33m\u001b[0m\u001b[1;33m\u001b[0m\u001b[0m\n",
      "\u001b[1;32m~\\Anaconda3\\lib\\site-packages\\selenium\\webdriver\\remote\\webdriver.py\u001b[0m in \u001b[0;36mexecute\u001b[1;34m(self, driver_command, params)\u001b[0m\n\u001b[0;32m    319\u001b[0m         \u001b[0mresponse\u001b[0m \u001b[1;33m=\u001b[0m \u001b[0mself\u001b[0m\u001b[1;33m.\u001b[0m\u001b[0mcommand_executor\u001b[0m\u001b[1;33m.\u001b[0m\u001b[0mexecute\u001b[0m\u001b[1;33m(\u001b[0m\u001b[0mdriver_command\u001b[0m\u001b[1;33m,\u001b[0m \u001b[0mparams\u001b[0m\u001b[1;33m)\u001b[0m\u001b[1;33m\u001b[0m\u001b[1;33m\u001b[0m\u001b[0m\n\u001b[0;32m    320\u001b[0m         \u001b[1;32mif\u001b[0m \u001b[0mresponse\u001b[0m\u001b[1;33m:\u001b[0m\u001b[1;33m\u001b[0m\u001b[1;33m\u001b[0m\u001b[0m\n\u001b[1;32m--> 321\u001b[1;33m             \u001b[0mself\u001b[0m\u001b[1;33m.\u001b[0m\u001b[0merror_handler\u001b[0m\u001b[1;33m.\u001b[0m\u001b[0mcheck_response\u001b[0m\u001b[1;33m(\u001b[0m\u001b[0mresponse\u001b[0m\u001b[1;33m)\u001b[0m\u001b[1;33m\u001b[0m\u001b[1;33m\u001b[0m\u001b[0m\n\u001b[0m\u001b[0;32m    322\u001b[0m             response['value'] = self._unwrap_value(\n\u001b[0;32m    323\u001b[0m                 response.get('value', None))\n",
      "\u001b[1;32m~\\Anaconda3\\lib\\site-packages\\selenium\\webdriver\\remote\\errorhandler.py\u001b[0m in \u001b[0;36mcheck_response\u001b[1;34m(self, response)\u001b[0m\n\u001b[0;32m    240\u001b[0m                 \u001b[0malert_text\u001b[0m \u001b[1;33m=\u001b[0m \u001b[0mvalue\u001b[0m\u001b[1;33m[\u001b[0m\u001b[1;34m'alert'\u001b[0m\u001b[1;33m]\u001b[0m\u001b[1;33m.\u001b[0m\u001b[0mget\u001b[0m\u001b[1;33m(\u001b[0m\u001b[1;34m'text'\u001b[0m\u001b[1;33m)\u001b[0m\u001b[1;33m\u001b[0m\u001b[1;33m\u001b[0m\u001b[0m\n\u001b[0;32m    241\u001b[0m             \u001b[1;32mraise\u001b[0m \u001b[0mexception_class\u001b[0m\u001b[1;33m(\u001b[0m\u001b[0mmessage\u001b[0m\u001b[1;33m,\u001b[0m \u001b[0mscreen\u001b[0m\u001b[1;33m,\u001b[0m \u001b[0mstacktrace\u001b[0m\u001b[1;33m,\u001b[0m \u001b[0malert_text\u001b[0m\u001b[1;33m)\u001b[0m\u001b[1;33m\u001b[0m\u001b[1;33m\u001b[0m\u001b[0m\n\u001b[1;32m--> 242\u001b[1;33m         \u001b[1;32mraise\u001b[0m \u001b[0mexception_class\u001b[0m\u001b[1;33m(\u001b[0m\u001b[0mmessage\u001b[0m\u001b[1;33m,\u001b[0m \u001b[0mscreen\u001b[0m\u001b[1;33m,\u001b[0m \u001b[0mstacktrace\u001b[0m\u001b[1;33m)\u001b[0m\u001b[1;33m\u001b[0m\u001b[1;33m\u001b[0m\u001b[0m\n\u001b[0m\u001b[0;32m    243\u001b[0m \u001b[1;33m\u001b[0m\u001b[0m\n\u001b[0;32m    244\u001b[0m     \u001b[1;32mdef\u001b[0m \u001b[0m_value_or_default\u001b[0m\u001b[1;33m(\u001b[0m\u001b[0mself\u001b[0m\u001b[1;33m,\u001b[0m \u001b[0mobj\u001b[0m\u001b[1;33m,\u001b[0m \u001b[0mkey\u001b[0m\u001b[1;33m,\u001b[0m \u001b[0mdefault\u001b[0m\u001b[1;33m)\u001b[0m\u001b[1;33m:\u001b[0m\u001b[1;33m\u001b[0m\u001b[1;33m\u001b[0m\u001b[0m\n",
      "\u001b[1;31mWebDriverException\u001b[0m: Message: chrome not reachable\n  (Session info: chrome=79.0.3945.88)\n"
     ]
    }
   ],
   "source": [
    "dataList = []\n",
    "doc.make_links_absolute(base_url=res.url)\n",
    "driver = webdriver.Chrome(\"D:\\jupyter notebook\\程式設計概論\\chromedriver.exe\")\n",
    "for eachMainDoc in doc(\".level3Title\").items():\n",
    "    print(eachMainDoc.attr(\"href\"))\n",
    "    mainRes = requests.get(eachMainDoc.attr(\"href\"))\n",
    "    mainDoc = pq(mainRes.text)\n",
    "    mainDoc.make_links_absolute(base_url=mainRes.url)\n",
    "    #選出每個類型的分頁連結\n",
    "    nextDoc = mainDoc\n",
    "    nextRes = mainRes\n",
    "    driver.get(eachMainDoc.attr(\"href\"))\n",
    "    while True:\n",
    "        nextDoc.make_links_absolute(base_url=nextRes.url)\n",
    "        wrapper = driver.find_element_by_css_selector(\"#isoredux-root\")\n",
    "        lastHeight = -1\n",
    "        for i in range(10):\n",
    "            height = wrapper.size['height']\n",
    "            if lastHeight == height:\n",
    "                continue\n",
    "            lastHeight = height\n",
    "            driver.execute_script('window.scrollTo(0, {})'.format(height))\n",
    "            sleep(0.5)\n",
    "        for eachItemDoc in nextDoc(\".BaseGridItem__itemInfo___3E5Bx\").items():\n",
    "            itemDict = {}\n",
    "            itemDict[\"title\"] = eachItemDoc(\".BaseGridItem__title___2HWui\").text()\n",
    "            itemDict[\"price\"] = float(eachItemDoc(\".BaseGridItem__price___31jkj\").text().replace(\"$\",\"\").replace(\",\",\"\"))\n",
    "            dataList.append(itemDict)\n",
    "        print(nextDoc(\".Pagination__wrap___FpaCH.Pagination__hideOnMobile___3bl9T>.Pagination__numberBtn___3HrVf\").attr(\"href\"))\n",
    "        webUrl = nextDoc(\".Pagination__wrap___FpaCH.Pagination__hideOnMobile___3bl9T>.Pagination__numberBtn___3HrVf\").attr(\"href\")            \n",
    "        if not webUrl:\n",
    "            break\n",
    "        nextRes = requests.get(webUrl)\n",
    "        nextDoc = pq(nextRes.text)"
   ]
  },
  {
   "cell_type": "code",
   "execution_count": 8,
   "metadata": {
    "collapsed": true
   },
   "outputs": [
    {
     "name": "stdout",
     "output_type": "stream",
     "text": [
      "[{'title': 'Apple iPhone 11 128G 6.1吋智慧型手機', 'price': 26488.0}, {'title': '紅米 Redmi Note 8T (4G/64G) 6.3吋八核心智慧手機', 'price': 5299.0}, {'title': '紅米 Redmi Note 8 Pro (6G/64G) 6.53吋八核心手機', 'price': 6599.0}, {'title': 'Apple iPhone 11 Pro Max 256G 6.5吋智慧型手機', 'price': 41999.0}, {'title': 'SAMSUNG Galaxy A70 6G/128G 6.7吋大廣角手機', 'price': 980010280.0}, {'title': 'Apple iPhone 11 128G 6.1吋智慧型手機', 'price': 2658826900.0}, {'title': 'NOKIA 2720 (512MB/4G) 經典折疊式手機 超長續航', 'price': 2990.0}, {'title': 'NOKIA 2720 (512MB/4G) 經典折疊式手機 超長續航-紅色', 'price': 2990.0}, {'title': 'iNO CP300 雙螢幕銀髮族御用4G摺疊手機(公司貨)', 'price': 1840.0}, {'title': 'Panasonic VS-200雙大畫面2.8吋4G御守機 老人機 VS200', 'price': 2390.0}, {'title': 'GPLUS GH7200 雙卡雙待摺疊式科園機(部隊版)', 'price': 880.0}, {'title': 'Panasnoic VS-200 4G大字幕大聲音折疊機', 'price': 2690.0}, {'title': '【福利品】Apple iPhone 8 Plus 64GB', 'price': 1261613280.0}, {'title': '【福利品】Apple iPhone X 64G 5.8吋智慧型手機', 'price': 1425015000.0}, {'title': '【福利品】Apple iPhone 8 64GB 智慧手機', 'price': 997510500.0}, {'title': '【福利品】Apple iPhone X 256G 智慧型手機', 'price': 1748018400.0}, {'title': '【福利品】Apple iPhone X 256G 5.8吋智慧型手機', 'price': 1614116990.0}, {'title': '【福利品】Samsung Galaxy Note 9 (6G/128G)', 'price': 14690.0}, {'title': '(送果凍套)Beats Powerbeats Pro 真無線耳機 抗汗防水濺', 'price': 6990.0}, {'title': '【限時下殺】Beats X 頸掛式運動藍牙耳機', 'price': 2890.0}, {'title': 'Beats Powerbeats Pro 真無線耳機', 'price': 6990.0}, {'title': 'Beats Solo3 Wireless 無線頭戴式耳機', 'price': 4990.0}, {'title': 'Beats urBeats3 入耳式耳機 - Lightning', 'price': 1390.0}, {'title': '(送透明背袋)Beats Solo 3 Wireless Club 頭戴耳機', 'price': 59906267.0}, {'title': '小米 Redmi紅米AirDots真無線藍牙耳機 超值版', 'price': 730.0}, {'title': 'X18S 無線藍芽耳機 運動 無線 藍牙 耳機 立體聲', 'price': 699.0}, {'title': '小米米家 Redmi AirDots 真無線藍牙耳機 藍牙5.0 藍牙耳機 小愛同學 Siri', 'price': 880.0}, {'title': '西歐科技 布達佩斯 無線雙耳立體聲藍牙耳機 CME-BTK600', 'price': 999.0}, {'title': '(送保護套)魔宴 Sabbat X12 Pro HIFI 真無線藍芽耳機 炫彩 充電艙收納盒', 'price': 1580.0}, {'title': '(送小米背包)SONY WH-1000XM3 藍芽無線降噪耳罩式耳機 (公司貨)', 'price': 9900.0}, {'title': 'IS愛思 藍牙音頻接收器 (USB/3.5mm雙輸出加強版)', 'price': 299.0}, {'title': 'Baseus倍思 時代 3.5mm AUX 車用藍芽接收器-黑', 'price': 690.0}, {'title': 'BL02 音頻藍牙發射器 (支援一拖二)', 'price': 499.0}, {'title': 'TUNAI WAND藍牙魔棒 aptX-LL低延遲無線藍牙發射器', 'price': 1850.0}, {'title': 'RT-11 音訊藍牙接收發射器', 'price': 399.0}, {'title': 'RONEVER PH002 無線藍牙接收器', 'price': 429.0}, {'title': 'FiiO Q5s 旗艦多功能隨身耳機功率擴大器', 'price': 13800.0}, {'title': 'FiiO Q1II USB DAC隨身型DSD輸出iPhone解碼耳機功率放大器', 'price': 4200.0}, {'title': 'Sennheiser 森海塞爾 GSX 1200 PRO 電腦外接音效卡/電競通訊功能', 'price': 6490.0}, {'title': '羅技 ASTRO A40 混音擴大器二代', 'price': 4290.0}, {'title': 'FiiO K3 USB DAC數位類比音源轉換器', 'price': 4200.0}, {'title': '【FiiO】Q1II USB DAC隨身型耳機功率放大器 (FQ1222)', 'price': 4200.0}, {'title': 'Beats Powerbeats Pro 黑 / 紅 / 藍色 專屬保護套/果凍套', 'price': 490.0}, {'title': 'Beats Powerbeats Pro 黑 / 紅 / 藍色 專屬保護套/果凍套', 'price': 490.0}, {'title': 'Baseus倍思 BA01 AUX 藍芽音樂接收器', 'price': 590.0}, {'title': '西歐科技 CME - BTK200 無線雙耳立體聲藍芽耳機', 'price': 538.0}, {'title': 'SONY WF-1000XM3 黑 / 紅色 專屬保護套/果凍套', 'price': 490.0}, {'title': 'SONY WF-1000XM3 專屬保護套/果凍套', 'price': 490.0}, {'title': '(贈32GB記憶卡) 超薄炫彩1.8吋插卡式MP3/MP4隨身聽', 'price': 649.0}, {'title': '超薄炫彩1.8吋插卡式MP3/MP4隨身聽', 'price': 499.0}, {'title': '夾子型插卡式MP3隨身聽', 'price': 199.0}, {'title': 'SONY NW-A55 高解析音質Walkman 16G數位隨身聽 (公司貨)', 'price': 5990.0}, {'title': 'DWA31流線款 螢幕插卡式MP3隨身聽(可換電池)(加16GB記憶卡)加送4大好禮', 'price': 699.0}, {'title': 'FiiO M5 隨身無損音樂播放器', 'price': 3680.0}, {'title': 'Apple AirPods 藍芽耳機(全新2019款搭配有線充電盒)', 'price': 4390.0}, {'title': 'Apple AirPods 第2代 藍芽耳機 (搭配有線充電盒)', 'price': 4390.0}, {'title': 'Apple 第2代 AirPods 藍芽耳機 (搭配有線充電盒)', 'price': 4590.0}, {'title': 'Apple AirPods 第二代 無線耳機 全新2019款 (有線充電盒款)', 'price': 4690.0}, {'title': 'Apple AirPods 第二代藍芽耳機(搭配無線充電盒)', 'price': 5480.0}, {'title': 'Apple 第2代 AirPods 藍芽耳機 (搭配無線充電盒)', 'price': 5580.0}, {'title': '【VITAS】超微聲隨身碟錄音筆32G(RTC版)', 'price': 941990.0}, {'title': '(可用券)SONY 錄音筆 ICD-UX560F 金屬輕薄 速充電 立體聲【中文平輸】', 'price': 3500.0}, {'title': 'SONY 錄音筆 ICD-UX570F 高感度S-Mic 立體聲 速充電【保固兩年】', 'price': 37903911.0}, {'title': 'SONY 錄音筆 ICD-PX240 入門級 立體音 4GB 【平輸】', 'price': 1999.0}, {'title': '(送小米後揹包)SONY PCM-D10 專業高音質錄音筆 (公司貨)', 'price': 13790.0}, {'title': 'SONY 錄音筆 ICD-PX470 可擴充 內建4GB【公司貨】', 'price': 2990.0}, {'title': '新上市少量現貨【標準版】小米手環4 AMOLED彩色螢幕 繁體中文版 保固一年', 'price': 10801180.0}, {'title': '小米米家 Amazfit 華米 GTS智能手錶 46天長續航', 'price': 5350.0}, {'title': '小米手環3/4 腕帶 替換帶 液態硅膠 錶帶 運動智能錶帶 防水防丟', 'price': 220.0}, {'title': 'GARMIN VIVOLIFE 悠遊智慧腕錶', 'price': 6990.0}, {'title': '小米手環2', 'price': 630.0}, {'title': '小米米家石英錶', 'price': 2388.0}, {'title': 'ANTIAN 小米手環4 格朗系列 金屬錶帶 替換腕帶 高端商務時尚手錶帶', 'price': 488.0}, {'title': '小米手環4威尼斯精鋼3珠錶帶', 'price': 399.0}, {'title': '小米手環4雙色撞色錶帶腕帶', 'price': 169.0}, {'title': '小米手環4迷彩炫彩腕帶錶帶-迷彩系列', 'price': 199.0}, {'title': '小米手環4米蘭金屬錶帶腕帶-磁吸版', 'price': 399.0}, {'title': '小米手環4單色錶帶腕帶(副廠)', 'price': 119.0}, {'title': 'HTC VIVE COSMOS', 'price': 22900.0}, {'title': 'HTC VIVE COSMOS', 'price': 22900.0}, {'title': 'E-books VR遊戲組 - 虛擬實境VR頭戴眼鏡+藍牙VR遊戲搖桿 (V3+V2)', 'price': 1049.0}, {'title': '小宅Z5黑色青春版VR眼鏡 贈藍牙遙控器', 'price': 1288.0}, {'title': 'HTC VIVE FOCUS - 家用版', 'price': 18900.0}, {'title': '西歐科技潘朵拉盒子VR 3D眼鏡 (贈送搖桿)', 'price': 499.0}, {'title': 'Apple Watch S5 GPS版 44mm 鋁錶殼配運動錶帶', 'price': 1390014400.0}, {'title': 'Apple Watch S5 GPS版 40mm 鋁錶殼配運動錶帶', 'price': 1290013400.0}, {'title': 'Apple Watch S5 GPS版 44mm太空灰鋁錶殼黑色運動錶帶MWVF2TA', 'price': 14400.0}, {'title': 'Apple Watch S5 Nike GPS版 44mm太空灰鋁錶殼黑色運動錶帶MX3W', 'price': 14400.0}, {'title': 'Apple Watch Series 5(GPS) 44mm金色鋁金屬錶殼+粉沙色運動錶帶', 'price': 1390014400.0}, {'title': 'Apple Watch S5 NIKE GPS版 40mm 鋁錶殼配運動錶帶', 'price': 1290013400.0}, {'title': 'SONY DSC-W810高畫質相機 (公司貨)', 'price': 24462630.0}, {'title': 'SONY DSC-RX100VII (M7 / MVII) 數位相機 (公司貨)', 'price': 3487037494.0}, {'title': 'SONY 數位相機 DSC-RX100M7(公司貨)', 'price': 33500.0}, {'title': 'Canon PowerShot G7 X Mark III (公司貨)', 'price': 1945020913.0}, {'title': 'SONY DSC-RX100M5A (V / VA) 輕巧數位相機(公司貨)', 'price': 23347.0}, {'title': 'SONY DSC-RX100VII G(M7 / MVII) 數位相機 (公司貨)', 'price': 3720140001.0}, {'title': 'SONY A7III (A7M3) 單機身(公司貨)', 'price': 5578259980.0}, {'title': 'SONY A7R III (R3 / RIII) 單機身(公司貨)', 'price': 6694271980.0}, {'title': 'SONY 數位單眼相機 ILCE-6600M (A6600M) 變焦鏡組(公司貨)', 'price': 5252756480.0}, {'title': 'SONY A7III (A7M3K) 28-70mm 變焦鏡組(公司貨)', 'price': 6043264980.0}, {'title': 'SONY A6400L A6400 16-50mm 變焦鏡組(公司貨)', 'price': 2741729480.0}, {'title': 'Canon EOS M6 15-45mm 變焦鏡頭組(公司貨)', 'price': 1868220088.0}, {'title': 'SONY FE 24-105mm F4 G OSS (SEL24105G)變焦鏡頭/公司貨', 'price': 3625238980.0}, {'title': 'SONY FE 35mm F1.8 (SEL35F18F) (公司貨)', 'price': 1759118915.0}, {'title': 'Tamron 18-270mm F3.5-6.3 DiII B008 TS(公司貨)', 'price': 1235013000.0}, {'title': 'Nikon NIKKOR Z 50mm f/1.8 S', 'price': 1757718900.0}, {'title': 'SONY卡爾蔡司 Sonnar T* FE 55mm F1.8 ZA 定焦鏡(公司貨)', 'price': 2137222980.0}, {'title': 'SONY G 鏡 FE70-300mm F4.5-5.6 G OSS 變焦鏡頭(公司貨)', 'price': 2974231980.0}]\n"
     ]
    }
   ],
   "source": [
    "print(dataList)"
   ]
  },
  {
   "cell_type": "code",
   "execution_count": 3,
   "metadata": {},
   "outputs": [],
   "source": [
    "driver = webdriver.Chrome(\"D:\\jupyter notebook\\程式設計概論\\chromedriver.exe\")\n",
    "driver.get('https://tw.buy.yahoo.com/category/4385945')\n",
    "wrapper = driver.find_element_by_css_selector(\"#isoredux-root\")"
   ]
  },
  {
   "cell_type": "code",
   "execution_count": 4,
   "metadata": {},
   "outputs": [
    {
     "name": "stdout",
     "output_type": "stream",
     "text": [
      "7224\n",
      "7223\n",
      "7213\n",
      "7206\n"
     ]
    }
   ],
   "source": [
    "lastHeight = -1\n",
    "for i in range(10):\n",
    "    height = wrapper.size['height']\n",
    "    if lastHeight == height:\n",
    "        break\n",
    "    lastHeight = height\n",
    "    driver.execute_script('window.scrollTo(0, {})'.format(height))\n",
    "    sleep(0.5)\n",
    "    print(height)"
   ]
  },
  {
   "cell_type": "code",
   "execution_count": null,
   "metadata": {},
   "outputs": [],
   "source": []
  },
  {
   "cell_type": "code",
   "execution_count": null,
   "metadata": {},
   "outputs": [],
   "source": []
  },
  {
   "cell_type": "code",
   "execution_count": null,
   "metadata": {},
   "outputs": [],
   "source": []
  },
  {
   "cell_type": "code",
   "execution_count": null,
   "metadata": {},
   "outputs": [],
   "source": []
  },
  {
   "cell_type": "code",
   "execution_count": null,
   "metadata": {},
   "outputs": [],
   "source": []
  },
  {
   "cell_type": "code",
   "execution_count": null,
   "metadata": {},
   "outputs": [],
   "source": []
  },
  {
   "cell_type": "code",
   "execution_count": null,
   "metadata": {},
   "outputs": [],
   "source": []
  },
  {
   "cell_type": "code",
   "execution_count": null,
   "metadata": {},
   "outputs": [],
   "source": []
  },
  {
   "cell_type": "code",
   "execution_count": null,
   "metadata": {},
   "outputs": [],
   "source": [
    "dataList = []\n",
    "doc.make_links_absolute(base_url=res.url)\n",
    "for eachMainDoc in doc(\"#side-menu > li:nth-child(n+2) > a\").items():\n",
    "    #print(eachMainDoc.attr(\"href\"))\n",
    "    mainRes = requests.get(eachMainDoc.attr(\"href\"))\n",
    "    mainDoc = pq(mainRes.text)\n",
    "    mainDoc.make_links_absolute(base_url=mainRes.url)\n",
    "    for eachSubDoc in mainDoc(\"#side-menu > li.active > ul > li > a\").items():\n",
    "        print(eachSubDoc.attr(\"href\"))\n",
    "        subRes = requests.get(eachSubDoc.attr(\"href\"))\n",
    "        subDoc = pq(subRes.text)\n",
    "        #part 2\n",
    "        print(len(subDoc(\".BaseGridItem__content___3LORP BaseGridItem__hover___3UlCS\")))\n",
    "        nextDoc = subDoc\n",
    "        nextRes = subRes\n",
    "        while True:\n",
    "            nextDoc.make_links_absolute(base_url=nextRes.url)\n",
    "            for eachItemDoc in nextDoc(\".test-site .thumbnail\").items():\n",
    "                itemDict = {}\n",
    "                itemDict[\"title\"] = eachItemDoc(\".caption .title\").text()\n",
    "                itemDict[\"price\"] = float(eachItemDoc(\".caption > .price\").text().replace(\"$\",\"\"))\n",
    "                itemDict[\"stars\"] = int(eachItemDoc(\".ratings>p:nth-child(2)\").attr(\"data-rating\"))\n",
    "                dataList.append(itemDict)\n",
    "            print(nextDoc(\".pagination>li.active+li>a\").attr(\"href\"))\n",
    "            webUrl = nextDoc(\".pagination>li.active+li>a\").attr(\"href\")\n",
    "            if not webUrl:\n",
    "                break\n",
    "            nextRes = requests.get(webUrl)\n",
    "            nextDoc = pq(nextRes.text)"
   ]
  }
 ],
 "metadata": {
  "kernelspec": {
   "display_name": "Python 3",
   "language": "python",
   "name": "python3"
  },
  "language_info": {
   "codemirror_mode": {
    "name": "ipython",
    "version": 3
   },
   "file_extension": ".py",
   "mimetype": "text/x-python",
   "name": "python",
   "nbconvert_exporter": "python",
   "pygments_lexer": "ipython3",
   "version": "3.6.7"
  }
 },
 "nbformat": 4,
 "nbformat_minor": 2
}
