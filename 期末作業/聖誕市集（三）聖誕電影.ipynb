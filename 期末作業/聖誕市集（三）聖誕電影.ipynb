{
 "cells": [
  {
   "cell_type": "markdown",
   "metadata": {},
   "source": [
    "# 聖誕市集（三）聖誕電影"
   ]
  },
  {
   "cell_type": "markdown",
   "metadata": {},
   "source": [
    "Description\n",
    "\n",
    "聖誕節快到了......反正也沒有人來約我拉~~\n",
    "\n",
    "來爬一下IMDb評分最高的一些電影，我受夠現在院線的流行電影\n",
    "\n",
    "一直降低我的格調!!!!!!!\n",
    "\n",
    "不說了 我打算找找在冬天裡能夠在家好好觀看的一部\n",
    "\n",
    "補充補充我的文青氣質~~~~\n",
    "\n",
    "麻煩你幫他寫個程式，找找特定年代的電影有幾個\n",
    "\n",
    "網址：https://www.imdb.com/chart/top/?ref_=nv_mv_250\n",
    "\n",
    "\n",
    "Input\n",
    "\n",
    "輸入一個數字\n",
    "\n",
    "代表那一年的年份\n",
    "\n",
    "\n",
    "Output\n",
    "\n",
    "一個數字將那個年份的所有電影數目"
   ]
  },
  {
   "cell_type": "code",
   "execution_count": 1,
   "metadata": {},
   "outputs": [
    {
     "name": "stdout",
     "output_type": "stream",
     "text": [
      "1999\n",
      "5\n"
     ]
    }
   ],
   "source": [
    "import requests\n",
    "from pyquery import PyQuery as pq\n",
    "\n",
    "res = requests.get(\"https://www.imdb.com/chart/top/?ref_=nv_mv_250\")\n",
    "doc = pq(res.text)\n",
    "\n",
    "a = '('+input()+')'\n",
    "t=0\n",
    "for i in doc(\"span.secondaryInfo\").items():\n",
    "    if a==i.text():\n",
    "        t+=1\n",
    "print(t)"
   ]
  },
  {
   "cell_type": "code",
   "execution_count": null,
   "metadata": {},
   "outputs": [],
   "source": []
  }
 ],
 "metadata": {
  "kernelspec": {
   "display_name": "Python 3",
   "language": "python",
   "name": "python3"
  },
  "language_info": {
   "codemirror_mode": {
    "name": "ipython",
    "version": 3
   },
   "file_extension": ".py",
   "mimetype": "text/x-python",
   "name": "python",
   "nbconvert_exporter": "python",
   "pygments_lexer": "ipython3",
   "version": "3.6.7"
  }
 },
 "nbformat": 4,
 "nbformat_minor": 2
}
