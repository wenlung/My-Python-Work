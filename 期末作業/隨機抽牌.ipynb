{
 "cells": [
  {
   "cell_type": "code",
   "execution_count": 1,
   "metadata": {},
   "outputs": [],
   "source": [
    "from random import choice, sample"
   ]
  },
  {
   "cell_type": "code",
   "execution_count": 2,
   "metadata": {},
   "outputs": [],
   "source": [
    "suit = {1:'黑桃', 2:'紅心', 3:'方塊', 4:'梅花'}\n",
    "card = ['A', '2', '3', '4', '5', '6', '7', '8', '9', '10', 'J', 'Q', \"K\"]"
   ]
  },
  {
   "cell_type": "code",
   "execution_count": 4,
   "metadata": {},
   "outputs": [],
   "source": [
    "def drawcards(n=5):\n",
    "    poker = []\n",
    "    suit = {1:'黑桃', 2:'紅心', 3:'方塊', 4:'梅花'}\n",
    "    card = ['A', '2', '3', '4', '5', '6', '7', '8', '9', '10', 'J',\n",
    "            'Q', \"K\"]\n",
    "    for i in suit.values():\n",
    "        for j in card:\n",
    "            poker.append(i+j)\n",
    "    return sample(poker, n)"
   ]
  },
  {
   "cell_type": "code",
   "execution_count": 5,
   "metadata": {},
   "outputs": [
    {
     "data": {
      "text/plain": [
       "['梅花K', '方塊J', '黑桃A', '方塊K', '方塊9']"
      ]
     },
     "execution_count": 5,
     "metadata": {},
     "output_type": "execute_result"
    }
   ],
   "source": [
    "drawcards(5)"
   ]
  }
 ],
 "metadata": {
  "kernelspec": {
   "display_name": "Python 3",
   "language": "python",
   "name": "python3"
  },
  "language_info": {
   "codemirror_mode": {
    "name": "ipython",
    "version": 3
   },
   "file_extension": ".py",
   "mimetype": "text/x-python",
   "name": "python",
   "nbconvert_exporter": "python",
   "pygments_lexer": "ipython3",
   "version": "3.6.7"
  }
 },
 "nbformat": 4,
 "nbformat_minor": 2
}
