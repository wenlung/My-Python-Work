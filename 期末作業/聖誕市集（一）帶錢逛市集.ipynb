{
 "cells": [
  {
   "cell_type": "markdown",
   "metadata": {},
   "source": [
    "# 聖誕市集（一）帶錢逛市集"
   ]
  },
  {
   "cell_type": "markdown",
   "metadata": {},
   "source": [
    "Description\n",
    "\n",
    "哇啊～下週有聖誕市集～這是我每年最期待的日子啊～～\n",
    "\n",
    "不過今年比較特別，因為我參加了國合處的學伴計畫（buddy program）\n",
    "\n",
    "平常除了關心他生活有沒有什麼需要外，偶爾也會約出來小酌一下，\n",
    "\n",
    "既然市集快到了，我就約他出來一起逛，讓他體驗一下政大的聖誕氣氛。\n",
    "\n",
    "不過他問我，逛市集的話要準備多少錢？\n",
    "\n",
    "這倒難倒我了⋯⋯ 請幫幫我吧～～～\n",
    "\n",
    "我們幫他查查臺灣銀行的匯率，並好讓這位學弟告訴他的學伴\n",
    "\n",
    "要帶多少台幣，並且折合成他們國家多少錢～\n",
    "\n",
    "我們用12/3號的匯率為準吧！\n",
    "\n",
    "網址如下：\n",
    "\n",
    "https://rate.bot.com.tw/xrt/all/2019-12-03\n",
    "\n",
    "由於是折合對方國家多少錢，所以我們看的是從台幣換成外幣的「賣出」\n",
    "\n",
    "並以現金匯率為主喔（也就是現金匯率--->本行賣出一欄）\n",
    "\n",
    "\n",
    "Input\n",
    "\n",
    "輸入兩行。\n",
    "\n",
    "第一行會是這位外籍生的國家，所使用的幣別。\n",
    "\n",
    "第二行會是你覺得這次逛市集大概要帶多少錢。\n",
    "\n",
    "\n",
    "Output\n",
    "\n",
    "輸出一行，會有兩個數字，數字前會有各自的幣別。\n",
    "\n",
    "前者為台幣，後者為外幣。折合的外幣請用round()四捨五入。"
   ]
  },
  {
   "cell_type": "code",
   "execution_count": 3,
   "metadata": {},
   "outputs": [
    {
     "name": "stdout",
     "output_type": "stream",
     "text": [
      "JPY\n",
      "1000\n",
      "NTD: 1000 JPY: 3532\n"
     ]
    }
   ],
   "source": [
    "import requests\n",
    "from pyquery import PyQuery as pq\n",
    "\n",
    "res = requests.get(\"https://rate.bot.com.tw/xrt/all/2019-12-03\")\n",
    "doc = pq(res.text)\n",
    "\n",
    "a = input()\n",
    "b = int(input())\n",
    "dataList = []\n",
    "for eachItemDoc in doc(\"body>div.page-wrapper>main.main>div.container \\\n",
    ">table.table.table-striped.table-bordered.table-condensed.table-hover.toggle-circle.phone-unset-font\\\n",
    ">tbody>tr\").items():\n",
    "    itemDict = {}\n",
    "    itemDict[\"title\"] = eachItemDoc(\".hidden-phone.print_show\").text()\n",
    "    itemDict[\"price\"] = eachItemDoc(\"td:nth-child(3)\").text()\n",
    "    dataList.append(itemDict)\n",
    "    if a in itemDict[\"title\"] :\n",
    "        print(\"NTD:\",b,a+\":\",round(b/float(itemDict[\"price\"] )))\n",
    "#     elif itemDict[\"price\"]==\"-\":\n",
    "#         print('No Data')"
   ]
  },
  {
   "cell_type": "code",
   "execution_count": null,
   "metadata": {},
   "outputs": [],
   "source": []
  }
 ],
 "metadata": {
  "kernelspec": {
   "display_name": "Python 3",
   "language": "python",
   "name": "python3"
  },
  "language_info": {
   "codemirror_mode": {
    "name": "ipython",
    "version": 3
   },
   "file_extension": ".py",
   "mimetype": "text/x-python",
   "name": "python",
   "nbconvert_exporter": "python",
   "pygments_lexer": "ipython3",
   "version": "3.6.7"
  }
 },
 "nbformat": 4,
 "nbformat_minor": 2
}
