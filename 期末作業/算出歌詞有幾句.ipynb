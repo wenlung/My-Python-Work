{
 "cells": [
  {
   "cell_type": "code",
   "execution_count": 6,
   "metadata": {},
   "outputs": [
    {
     "data": {
      "text/plain": [
       "['1-When I find myself in time of trouble ',\n",
       " '2-Mother Mary comes to me ',\n",
       " '3-Speaking words of wisdom: Let it be ',\n",
       " '4-And in my hour of darkness ',\n",
       " '5-She is standing right in front of me ',\n",
       " '6-Speaking words of wisdom: Let it be ',\n",
       " '7-Let it be, let it be ',\n",
       " '8-Let it be, let it be ',\n",
       " '9-Whisper words of wisdom: Let it be',\n",
       " '10-And when the broken hearted people living in the world agree ',\n",
       " '11-There will be an answer: Let it be ',\n",
       " '12-For though they may be parted ',\n",
       " '13-There is still a chance that they will see',\n",
       " '14-There will be an answer: Let it be',\n",
       " '15-Let it be, let it be ',\n",
       " '16-Let it be, let it be ',\n",
       " '17-Yeah, there will be an answer: Let it be',\n",
       " '18-And when the night is cloudy ',\n",
       " '19-There is still a light that shines on me ',\n",
       " '20-Shine until tomorrow. Let it be ',\n",
       " '21-I wake up to the sound of music Mother Mary comes to me',\n",
       " '22-Speaking words of wisdom: Let it be']"
      ]
     },
     "execution_count": 6,
     "metadata": {},
     "output_type": "execute_result"
    }
   ],
   "source": [
    "lyric = []\n",
    "order = 0\n",
    "with open(\"Let_It_Be.txt\",'r') as fObj:\n",
    "    for line in fObj:\n",
    "        line = line.replace(\" \\n\",\"\")\n",
    "        if line:\n",
    "            order +=1\n",
    "            lyric.append(str(order)+\"-\"+line)\n",
    "lyric"
   ]
  },
  {
   "cell_type": "code",
   "execution_count": null,
   "metadata": {},
   "outputs": [],
   "source": []
  }
 ],
 "metadata": {
  "kernelspec": {
   "display_name": "Python 3",
   "language": "python",
   "name": "python3"
  },
  "language_info": {
   "codemirror_mode": {
    "name": "ipython",
    "version": 3
   },
   "file_extension": ".py",
   "mimetype": "text/x-python",
   "name": "python",
   "nbconvert_exporter": "python",
   "pygments_lexer": "ipython3",
   "version": "3.6.7"
  }
 },
 "nbformat": 4,
 "nbformat_minor": 2
}
