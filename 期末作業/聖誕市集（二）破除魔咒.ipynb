{
 "cells": [
  {
   "cell_type": "markdown",
   "metadata": {},
   "source": [
    "# 聖誕市集（二）破除魔咒"
   ]
  },
  {
   "cell_type": "markdown",
   "metadata": {},
   "source": [
    "Description\n",
    "\n",
    "最近天氣越來越冷，整個人懶懶散散地，特別沒力氣⋯⋯\n",
    "\n",
    "尤其是聖誕節快到了⋯⋯更是孤單寂寞覺得冷。\n",
    "\n",
    "想當年大一，學長姐還跟我們說著聖誕魔咒，\n",
    "\n",
    "誰知道今年竟然輪到我了，想來心裡很是淒涼⋯⋯\n",
    "\n",
    "但在這裡跟你們牢騷也不是辦法！\n",
    "\n",
    "魯妹我前陣子在交流版上填問卷，抽到了兩張電影票，\n",
    "\n",
    "我覺得這是上天的旨意，讓我去約最近有點小曖昧的學弟，\n",
    "\n",
    "學弟對電影非常有研究，要是我什麼都不知道⋯⋯\n",
    "\n",
    "他會不會覺得我們沒什麼共同話題⋯⋯\n",
    "\n",
    "這位學姊提出一些她看過的電影，請幫他看看在這個好評排行上佔多少，並給他一些建議。\n",
    "\n",
    "如果小於五部 是不及格（F）\n",
    "\n",
    "如果大於等於五部，小於十部 是中下（C）\n",
    "\n",
    "如果大於等於十部，小於十五部 是普通（B）\n",
    "\n",
    "如果大於等於十五部 是好厲害（A）\n",
    "\n",
    "請用雅虎電影作為資訊，網頁如下：\n",
    "\n",
    "https://movies.yahoo.com.tw/chart.html?cate=rating&search_year=2019\n",
    "\n",
    "\n",
    "Input\n",
    "\n",
    "輸入，為多行。\n",
    "\n",
    "第一行為數字，是下方電影的數量，也暗示下方的行數。\n",
    "\n",
    "第二行開始到指定數目，皆為電影名稱。\n",
    "\n",
    "\n",
    "Output\n",
    "\n",
    "一行，學姊對於電影了解的評估。\n",
    "\n",
    "等級標準請見上方。"
   ]
  },
  {
   "cell_type": "code",
   "execution_count": 1,
   "metadata": {},
   "outputs": [
    {
     "name": "stdout",
     "output_type": "stream",
     "text": [
      "8\n",
      "Frozen 2\n",
      "clown\n",
      "Jin Zhiying born in 1982\n",
      "Blood Guanyin\n",
      "Back to school\n",
      "Big Buddha Place\n",
      "Despicable Me 1\n",
      "Annabelle\n",
      "F\n"
     ]
    }
   ],
   "source": [
    "import requests\n",
    "from pyquery import PyQuery as pq\n",
    "\n",
    "res = requests.get(\"https://movies.yahoo.com.tw/chart.html?cate=rating&search_year=2019\")\n",
    "doc = pq(res.text)\n",
    "\n",
    "dict1 = {'Jin Zhiying born in 1982': '82年生的金智英', 'Frozen 2': '冰雪奇緣2', 'Sunny': '陽光普照',\n",
    "         'Green Book of Happiness': '幸福綠皮書 Green Book', 'Never imagined': '萬萬沒想到',\n",
    "         'Summer battle': '夏日大作戰', 'Ghost nun': '鬼修女',\n",
    "         'Youth dude will not dream about dreaming beautiful girl': '青春豬頭少年不會夢到懷夢美少女',\n",
    "         'Parasitic high': '寄生上流', 'Aladdin': '阿拉丁', 'Despicable Me 1': '神偷奶爸1', 'clown': '小丑',\n",
    "         'How to Train Your Dragon 3': '馴龍高手3', 'The taste of pepper': '花椒之味', 'My Neighbor Totoro': '龍貓',\n",
    "         'God hidden girl': '神隱少女',\n",
    "         'The Legend of the Violet Eternal Garden-Forever and Automated Dolls-': '紫羅蘭永恆花園外傳－永遠與自動手記人偶－',\n",
    "         'witness': '證人', 'Lucy': '露西', 'Blood Guanyin': '血觀音', 'Avengers: Endgame': '復仇者聯盟：終局之戰',\n",
    "         'Back to school': '返校', 'Big Buddha Place': '大佛普拉斯', \"Hall's Moving Castle\": '霍爾的移動城堡',\n",
    "         'Little girl in red 2': '紅衣小女孩2', 'Parasitic high ': '寄生上流', 'Toy Story 4': '玩具總動員4',\n",
    "         'Annabelle': '安娜貝爾', 'Xiwu Garden': '夕霧花園', 'Forward loop': '鋒迴路轉', 'Runaway Manhattan': '暴走曼哈頓'}\n",
    "new_dict = {v : k for k, v in dict1.items()}\n",
    "\n",
    "List2=[]\n",
    "for i in doc(\"body>div#maincontainer>main>div.maincontent.ga_ranking>div#container>div#content_l>div#content_l>div.l_box> \\\n",
    "div.rank_list.table.rankstyle3>div.tr>div.td>a>div.rank_txt\").items():\n",
    "    for eachItemDoc in new_dict.keys():\n",
    "        if i.text() == eachItemDoc:\n",
    "            List2.append(new_dict[eachItemDoc])\n",
    "\n",
    "a = int(input())\n",
    "t=0\n",
    "for j in range(a):\n",
    "    k = input()\n",
    "    if k in List2:\n",
    "        t+=1\n",
    "if t<5:\n",
    "    print('F')\n",
    "elif 5<=t<10:\n",
    "    print(\"C\")\n",
    "elif 10<=t<15:\n",
    "    print('B')\n",
    "elif 15<=t:\n",
    "    print('A')"
   ]
  },
  {
   "cell_type": "code",
   "execution_count": null,
   "metadata": {},
   "outputs": [],
   "source": []
  }
 ],
 "metadata": {
  "kernelspec": {
   "display_name": "Python 3",
   "language": "python",
   "name": "python3"
  },
  "language_info": {
   "codemirror_mode": {
    "name": "ipython",
    "version": 3
   },
   "file_extension": ".py",
   "mimetype": "text/x-python",
   "name": "python",
   "nbconvert_exporter": "python",
   "pygments_lexer": "ipython3",
   "version": "3.6.7"
  }
 },
 "nbformat": 4,
 "nbformat_minor": 2
}
